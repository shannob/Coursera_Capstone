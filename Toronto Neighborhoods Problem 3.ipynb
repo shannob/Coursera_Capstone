{
 "cells": [
  {
   "cell_type": "markdown",
   "metadata": {},
   "source": [
    "# Segmenting and Clustering Toronto Neighborhoods\n",
    "IBM DS Capstone Wk 3"
   ]
  },
  {
   "cell_type": "code",
   "execution_count": 67,
   "metadata": {},
   "outputs": [],
   "source": [
    "import numpy as np\n",
    "import pandas as pd\n",
    "#!pip install folium\n",
    "import folium\n",
    "from sklearn.cluster import KMeans\n",
    "#!conda install -c conda-forge geopy --yes\n",
    "from geopy.geocoders import Nominatim\n",
    "import matplotlib.cm as cm\n",
    "import matplotlib.colors as colors"
   ]
  },
  {
   "cell_type": "markdown",
   "metadata": {},
   "source": [
    "importing data from wikipedia"
   ]
  },
  {
   "cell_type": "code",
   "execution_count": 43,
   "metadata": {},
   "outputs": [
    {
     "data": {
      "text/html": [
       "<div>\n",
       "<style scoped>\n",
       "    .dataframe tbody tr th:only-of-type {\n",
       "        vertical-align: middle;\n",
       "    }\n",
       "\n",
       "    .dataframe tbody tr th {\n",
       "        vertical-align: top;\n",
       "    }\n",
       "\n",
       "    .dataframe thead th {\n",
       "        text-align: right;\n",
       "    }\n",
       "</style>\n",
       "<table border=\"1\" class=\"dataframe\">\n",
       "  <thead>\n",
       "    <tr style=\"text-align: right;\">\n",
       "      <th></th>\n",
       "      <th>Postal Code</th>\n",
       "      <th>Borough</th>\n",
       "      <th>Neighbourhood</th>\n",
       "    </tr>\n",
       "  </thead>\n",
       "  <tbody>\n",
       "    <tr>\n",
       "      <th>1</th>\n",
       "      <td>M1A</td>\n",
       "      <td>Not assigned</td>\n",
       "      <td>Not assigned</td>\n",
       "    </tr>\n",
       "    <tr>\n",
       "      <th>2</th>\n",
       "      <td>M2A</td>\n",
       "      <td>Not assigned</td>\n",
       "      <td>Not assigned</td>\n",
       "    </tr>\n",
       "    <tr>\n",
       "      <th>3</th>\n",
       "      <td>M3A</td>\n",
       "      <td>North York</td>\n",
       "      <td>Parkwoods</td>\n",
       "    </tr>\n",
       "    <tr>\n",
       "      <th>4</th>\n",
       "      <td>M4A</td>\n",
       "      <td>North York</td>\n",
       "      <td>Victoria Village</td>\n",
       "    </tr>\n",
       "    <tr>\n",
       "      <th>5</th>\n",
       "      <td>M5A</td>\n",
       "      <td>Downtown Toronto</td>\n",
       "      <td>Regent Park, Harbourfront</td>\n",
       "    </tr>\n",
       "  </tbody>\n",
       "</table>\n",
       "</div>"
      ],
      "text/plain": [
       "0 Postal Code           Borough              Neighbourhood\n",
       "1         M1A      Not assigned               Not assigned\n",
       "2         M2A      Not assigned               Not assigned\n",
       "3         M3A        North York                  Parkwoods\n",
       "4         M4A        North York           Victoria Village\n",
       "5         M5A  Downtown Toronto  Regent Park, Harbourfront"
      ]
     },
     "execution_count": 43,
     "metadata": {},
     "output_type": "execute_result"
    }
   ],
   "source": [
    "#load data\n",
    "df = pd.read_html(\"https://en.wikipedia.org/wiki/List_of_postal_codes_of_Canada:_M\")[0]\n",
    "\n",
    "#assign header\n",
    "new_header = df.iloc[0]\n",
    "df = df[1:]\n",
    "df.columns = new_header \n",
    "\n",
    "df.head()"
   ]
  },
  {
   "cell_type": "markdown",
   "metadata": {},
   "source": [
    "cleaning and formatting data"
   ]
  },
  {
   "cell_type": "code",
   "execution_count": 44,
   "metadata": {},
   "outputs": [
    {
     "data": {
      "text/plain": [
       "(103, 3)"
      ]
     },
     "execution_count": 44,
     "metadata": {},
     "output_type": "execute_result"
    }
   ],
   "source": [
    "#removes unassigned boroughs\n",
    "df = df[df['Borough'] != 'Not assigned']\n",
    "#reset index\n",
    "df = df.reset_index(drop=True)\n",
    "\n",
    "df.shape"
   ]
  },
  {
   "cell_type": "markdown",
   "metadata": {},
   "source": [
    "Getting coordinates and merging with wikipedia df"
   ]
  },
  {
   "cell_type": "code",
   "execution_count": 45,
   "metadata": {},
   "outputs": [
    {
     "data": {
      "text/html": [
       "<div>\n",
       "<style scoped>\n",
       "    .dataframe tbody tr th:only-of-type {\n",
       "        vertical-align: middle;\n",
       "    }\n",
       "\n",
       "    .dataframe tbody tr th {\n",
       "        vertical-align: top;\n",
       "    }\n",
       "\n",
       "    .dataframe thead th {\n",
       "        text-align: right;\n",
       "    }\n",
       "</style>\n",
       "<table border=\"1\" class=\"dataframe\">\n",
       "  <thead>\n",
       "    <tr style=\"text-align: right;\">\n",
       "      <th></th>\n",
       "      <th>Postal Code</th>\n",
       "      <th>Latitude</th>\n",
       "      <th>Longitude</th>\n",
       "    </tr>\n",
       "  </thead>\n",
       "  <tbody>\n",
       "    <tr>\n",
       "      <th>0</th>\n",
       "      <td>M1B</td>\n",
       "      <td>43.806686</td>\n",
       "      <td>-79.194353</td>\n",
       "    </tr>\n",
       "    <tr>\n",
       "      <th>1</th>\n",
       "      <td>M1C</td>\n",
       "      <td>43.784535</td>\n",
       "      <td>-79.160497</td>\n",
       "    </tr>\n",
       "    <tr>\n",
       "      <th>2</th>\n",
       "      <td>M1E</td>\n",
       "      <td>43.763573</td>\n",
       "      <td>-79.188711</td>\n",
       "    </tr>\n",
       "    <tr>\n",
       "      <th>3</th>\n",
       "      <td>M1G</td>\n",
       "      <td>43.770992</td>\n",
       "      <td>-79.216917</td>\n",
       "    </tr>\n",
       "    <tr>\n",
       "      <th>4</th>\n",
       "      <td>M1H</td>\n",
       "      <td>43.773136</td>\n",
       "      <td>-79.239476</td>\n",
       "    </tr>\n",
       "  </tbody>\n",
       "</table>\n",
       "</div>"
      ],
      "text/plain": [
       "  Postal Code   Latitude  Longitude\n",
       "0         M1B  43.806686 -79.194353\n",
       "1         M1C  43.784535 -79.160497\n",
       "2         M1E  43.763573 -79.188711\n",
       "3         M1G  43.770992 -79.216917\n",
       "4         M1H  43.773136 -79.239476"
      ]
     },
     "execution_count": 45,
     "metadata": {},
     "output_type": "execute_result"
    }
   ],
   "source": [
    "#load data\n",
    "df2 = pd.read_csv('https://cocl.us/Geospatial_data')\n",
    "df2.head()"
   ]
  },
  {
   "cell_type": "code",
   "execution_count": 46,
   "metadata": {},
   "outputs": [
    {
     "data": {
      "text/html": [
       "<div>\n",
       "<style scoped>\n",
       "    .dataframe tbody tr th:only-of-type {\n",
       "        vertical-align: middle;\n",
       "    }\n",
       "\n",
       "    .dataframe tbody tr th {\n",
       "        vertical-align: top;\n",
       "    }\n",
       "\n",
       "    .dataframe thead th {\n",
       "        text-align: right;\n",
       "    }\n",
       "</style>\n",
       "<table border=\"1\" class=\"dataframe\">\n",
       "  <thead>\n",
       "    <tr style=\"text-align: right;\">\n",
       "      <th></th>\n",
       "      <th>Postal Code</th>\n",
       "      <th>Borough</th>\n",
       "      <th>Neighbourhood</th>\n",
       "      <th>Latitude</th>\n",
       "      <th>Longitude</th>\n",
       "    </tr>\n",
       "  </thead>\n",
       "  <tbody>\n",
       "    <tr>\n",
       "      <th>0</th>\n",
       "      <td>M3A</td>\n",
       "      <td>North York</td>\n",
       "      <td>Parkwoods</td>\n",
       "      <td>43.753259</td>\n",
       "      <td>-79.329656</td>\n",
       "    </tr>\n",
       "    <tr>\n",
       "      <th>1</th>\n",
       "      <td>M4A</td>\n",
       "      <td>North York</td>\n",
       "      <td>Victoria Village</td>\n",
       "      <td>43.725882</td>\n",
       "      <td>-79.315572</td>\n",
       "    </tr>\n",
       "    <tr>\n",
       "      <th>2</th>\n",
       "      <td>M5A</td>\n",
       "      <td>Downtown Toronto</td>\n",
       "      <td>Regent Park, Harbourfront</td>\n",
       "      <td>43.654260</td>\n",
       "      <td>-79.360636</td>\n",
       "    </tr>\n",
       "    <tr>\n",
       "      <th>3</th>\n",
       "      <td>M6A</td>\n",
       "      <td>North York</td>\n",
       "      <td>Lawrence Manor, Lawrence Heights</td>\n",
       "      <td>43.718518</td>\n",
       "      <td>-79.464763</td>\n",
       "    </tr>\n",
       "    <tr>\n",
       "      <th>4</th>\n",
       "      <td>M7A</td>\n",
       "      <td>Downtown Toronto</td>\n",
       "      <td>Queen's Park, Ontario Provincial Government</td>\n",
       "      <td>43.662301</td>\n",
       "      <td>-79.389494</td>\n",
       "    </tr>\n",
       "  </tbody>\n",
       "</table>\n",
       "</div>"
      ],
      "text/plain": [
       "  Postal Code           Borough                                Neighbourhood  \\\n",
       "0         M3A        North York                                    Parkwoods   \n",
       "1         M4A        North York                             Victoria Village   \n",
       "2         M5A  Downtown Toronto                    Regent Park, Harbourfront   \n",
       "3         M6A        North York             Lawrence Manor, Lawrence Heights   \n",
       "4         M7A  Downtown Toronto  Queen's Park, Ontario Provincial Government   \n",
       "\n",
       "    Latitude  Longitude  \n",
       "0  43.753259 -79.329656  \n",
       "1  43.725882 -79.315572  \n",
       "2  43.654260 -79.360636  \n",
       "3  43.718518 -79.464763  \n",
       "4  43.662301 -79.389494  "
      ]
     },
     "execution_count": 46,
     "metadata": {},
     "output_type": "execute_result"
    }
   ],
   "source": [
    "#merge data\n",
    "df = pd.merge(df, df2, on = 'Postal Code')\n",
    "df.head()"
   ]
  },
  {
   "cell_type": "markdown",
   "metadata": {},
   "source": [
    "adding a map"
   ]
  },
  {
   "cell_type": "code",
   "execution_count": 56,
   "metadata": {},
   "outputs": [
    {
     "data": {
      "text/html": [
       "<div>\n",
       "<style scoped>\n",
       "    .dataframe tbody tr th:only-of-type {\n",
       "        vertical-align: middle;\n",
       "    }\n",
       "\n",
       "    .dataframe tbody tr th {\n",
       "        vertical-align: top;\n",
       "    }\n",
       "\n",
       "    .dataframe thead th {\n",
       "        text-align: right;\n",
       "    }\n",
       "</style>\n",
       "<table border=\"1\" class=\"dataframe\">\n",
       "  <thead>\n",
       "    <tr style=\"text-align: right;\">\n",
       "      <th></th>\n",
       "      <th>Postal Code</th>\n",
       "      <th>Borough</th>\n",
       "      <th>Neighbourhood</th>\n",
       "      <th>Latitude</th>\n",
       "      <th>Longitude</th>\n",
       "    </tr>\n",
       "  </thead>\n",
       "  <tbody>\n",
       "    <tr>\n",
       "      <th>0</th>\n",
       "      <td>M5A</td>\n",
       "      <td>Downtown Toronto</td>\n",
       "      <td>Regent Park, Harbourfront</td>\n",
       "      <td>43.654260</td>\n",
       "      <td>-79.360636</td>\n",
       "    </tr>\n",
       "    <tr>\n",
       "      <th>1</th>\n",
       "      <td>M7A</td>\n",
       "      <td>Downtown Toronto</td>\n",
       "      <td>Queen's Park, Ontario Provincial Government</td>\n",
       "      <td>43.662301</td>\n",
       "      <td>-79.389494</td>\n",
       "    </tr>\n",
       "    <tr>\n",
       "      <th>2</th>\n",
       "      <td>M5B</td>\n",
       "      <td>Downtown Toronto</td>\n",
       "      <td>Garden District, Ryerson</td>\n",
       "      <td>43.657162</td>\n",
       "      <td>-79.378937</td>\n",
       "    </tr>\n",
       "    <tr>\n",
       "      <th>3</th>\n",
       "      <td>M5C</td>\n",
       "      <td>Downtown Toronto</td>\n",
       "      <td>St. James Town</td>\n",
       "      <td>43.651494</td>\n",
       "      <td>-79.375418</td>\n",
       "    </tr>\n",
       "    <tr>\n",
       "      <th>4</th>\n",
       "      <td>M4E</td>\n",
       "      <td>East Toronto</td>\n",
       "      <td>The Beaches</td>\n",
       "      <td>43.676357</td>\n",
       "      <td>-79.293031</td>\n",
       "    </tr>\n",
       "  </tbody>\n",
       "</table>\n",
       "</div>"
      ],
      "text/plain": [
       "  Postal Code           Borough                                Neighbourhood  \\\n",
       "0         M5A  Downtown Toronto                    Regent Park, Harbourfront   \n",
       "1         M7A  Downtown Toronto  Queen's Park, Ontario Provincial Government   \n",
       "2         M5B  Downtown Toronto                     Garden District, Ryerson   \n",
       "3         M5C  Downtown Toronto                               St. James Town   \n",
       "4         M4E      East Toronto                                  The Beaches   \n",
       "\n",
       "    Latitude  Longitude  \n",
       "0  43.654260 -79.360636  \n",
       "1  43.662301 -79.389494  \n",
       "2  43.657162 -79.378937  \n",
       "3  43.651494 -79.375418  \n",
       "4  43.676357 -79.293031  "
      ]
     },
     "execution_count": 56,
     "metadata": {},
     "output_type": "execute_result"
    }
   ],
   "source": [
    "#find toronto data\n",
    "df = df[df['Borough'].str.contains('Toronto', regex=False)]\n",
    "#reset index\n",
    "df = df.reset_index(drop=True)\n",
    "\n",
    "df.head()"
   ]
  },
  {
   "cell_type": "code",
   "execution_count": 60,
   "metadata": {},
   "outputs": [
    {
     "data": {
      "text/html": [
       "<div style=\"width:100%;\"><div style=\"position:relative;width:100%;height:0;padding-bottom:60%;\"><span style=\"color:#565656\">Make this Notebook Trusted to load map: File -> Trust Notebook</span><iframe src=\"about:blank\" style=\"position:absolute;width:100%;height:100%;left:0;top:0;border:none !important;\" data-html=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 onload=\"this.contentDocument.open();this.contentDocument.write(atob(this.getAttribute('data-html')));this.contentDocument.close();\" allowfullscreen webkitallowfullscreen mozallowfullscreen></iframe></div></div>"
      ],
      "text/plain": [
       "<folium.folium.Map at 0x2bc9b88c3c8>"
      ]
     },
     "execution_count": 60,
     "metadata": {},
     "output_type": "execute_result"
    }
   ],
   "source": [
    "# create map of Toronto using latitude and longitude values\n",
    "map = folium.Map(location=[43.651070, -79.347015], zoom_start=10)\n",
    "\n",
    "# add markers to map\n",
    "for lat, lng, borough, neighbourhood in zip(df['Latitude'], df['Longitude'], df['Borough'], df['Neighbourhood']):\n",
    "    label = '{}, {}'.format(neighbourhood, borough)\n",
    "    label = folium.Popup(label, parse_html=True)\n",
    "    folium.CircleMarker(\n",
    "        [lat,lng],\n",
    "        radius=5,\n",
    "        popup=label,\n",
    "        color='blue',\n",
    "        fill=True,\n",
    "        fill_color='#3186cc',\n",
    "        fill_opacity=0.7,\n",
    "        parse_html=False).add_to(map)\n",
    "\n",
    "map"
   ]
  },
  {
   "cell_type": "markdown",
   "metadata": {},
   "source": [
    "clustering using K Means"
   ]
  },
  {
   "cell_type": "code",
   "execution_count": 64,
   "metadata": {
    "scrolled": true
   },
   "outputs": [
    {
     "data": {
      "text/html": [
       "<div>\n",
       "<style scoped>\n",
       "    .dataframe tbody tr th:only-of-type {\n",
       "        vertical-align: middle;\n",
       "    }\n",
       "\n",
       "    .dataframe tbody tr th {\n",
       "        vertical-align: top;\n",
       "    }\n",
       "\n",
       "    .dataframe thead th {\n",
       "        text-align: right;\n",
       "    }\n",
       "</style>\n",
       "<table border=\"1\" class=\"dataframe\">\n",
       "  <thead>\n",
       "    <tr style=\"text-align: right;\">\n",
       "      <th></th>\n",
       "      <th>Cluster Labels</th>\n",
       "      <th>Postal Code</th>\n",
       "      <th>Borough</th>\n",
       "      <th>Neighbourhood</th>\n",
       "      <th>Latitude</th>\n",
       "      <th>Longitude</th>\n",
       "    </tr>\n",
       "  </thead>\n",
       "  <tbody>\n",
       "    <tr>\n",
       "      <th>0</th>\n",
       "      <td>0</td>\n",
       "      <td>M5A</td>\n",
       "      <td>Downtown Toronto</td>\n",
       "      <td>Regent Park, Harbourfront</td>\n",
       "      <td>43.654260</td>\n",
       "      <td>-79.360636</td>\n",
       "    </tr>\n",
       "    <tr>\n",
       "      <th>1</th>\n",
       "      <td>0</td>\n",
       "      <td>M7A</td>\n",
       "      <td>Downtown Toronto</td>\n",
       "      <td>Queen's Park, Ontario Provincial Government</td>\n",
       "      <td>43.662301</td>\n",
       "      <td>-79.389494</td>\n",
       "    </tr>\n",
       "    <tr>\n",
       "      <th>2</th>\n",
       "      <td>0</td>\n",
       "      <td>M5B</td>\n",
       "      <td>Downtown Toronto</td>\n",
       "      <td>Garden District, Ryerson</td>\n",
       "      <td>43.657162</td>\n",
       "      <td>-79.378937</td>\n",
       "    </tr>\n",
       "    <tr>\n",
       "      <th>3</th>\n",
       "      <td>0</td>\n",
       "      <td>M5C</td>\n",
       "      <td>Downtown Toronto</td>\n",
       "      <td>St. James Town</td>\n",
       "      <td>43.651494</td>\n",
       "      <td>-79.375418</td>\n",
       "    </tr>\n",
       "    <tr>\n",
       "      <th>4</th>\n",
       "      <td>4</td>\n",
       "      <td>M4E</td>\n",
       "      <td>East Toronto</td>\n",
       "      <td>The Beaches</td>\n",
       "      <td>43.676357</td>\n",
       "      <td>-79.293031</td>\n",
       "    </tr>\n",
       "  </tbody>\n",
       "</table>\n",
       "</div>"
      ],
      "text/plain": [
       "   Cluster Labels Postal Code           Borough  \\\n",
       "0               0         M5A  Downtown Toronto   \n",
       "1               0         M7A  Downtown Toronto   \n",
       "2               0         M5B  Downtown Toronto   \n",
       "3               0         M5C  Downtown Toronto   \n",
       "4               4         M4E      East Toronto   \n",
       "\n",
       "                                 Neighbourhood   Latitude  Longitude  \n",
       "0                    Regent Park, Harbourfront  43.654260 -79.360636  \n",
       "1  Queen's Park, Ontario Provincial Government  43.662301 -79.389494  \n",
       "2                     Garden District, Ryerson  43.657162 -79.378937  \n",
       "3                               St. James Town  43.651494 -79.375418  \n",
       "4                                  The Beaches  43.676357 -79.293031  "
      ]
     },
     "execution_count": 64,
     "metadata": {},
     "output_type": "execute_result"
    }
   ],
   "source": [
    "# set number of clusters\n",
    "k = 5\n",
    "\n",
    "df_clustering = df.drop(['Postal Code', 'Borough', 'Neighbourhood'], 1)\n",
    "\n",
    "# run k-means clustering\n",
    "kmeans = KMeans(n_clusters = k, random_state = 0).fit(df_clustering)\n",
    "\n",
    "# check cluster labels generated for each row in the dataframe\n",
    "kmeans.labels_\n",
    "df.insert(0, 'Cluster Labels', kmeans.labels_)\n",
    "df.head()"
   ]
  },
  {
   "cell_type": "markdown",
   "metadata": {},
   "source": [
    "Recreate map with cluster"
   ]
  },
  {
   "cell_type": "code",
   "execution_count": 69,
   "metadata": {},
   "outputs": [
    {
     "data": {
      "text/html": [
       "<div style=\"width:100%;\"><div style=\"position:relative;width:100%;height:0;padding-bottom:60%;\"><span style=\"color:#565656\">Make this Notebook Trusted to load map: File -> Trust Notebook</span><iframe src=\"about:blank\" style=\"position:absolute;width:100%;height:100%;left:0;top:0;border:none !important;\" data-html=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 onload=\"this.contentDocument.open();this.contentDocument.write(atob(this.getAttribute('data-html')));this.contentDocument.close();\" allowfullscreen webkitallowfullscreen mozallowfullscreen></iframe></div></div>"
      ],
      "text/plain": [
       "<folium.folium.Map at 0x2bc9c0e1f60>"
      ]
     },
     "execution_count": 69,
     "metadata": {},
     "output_type": "execute_result"
    }
   ],
   "source": [
    "map_clusters = folium.Map(location = [43.651070, -79.347015], zoom_start=10)\n",
    "\n",
    "# set color scheme for the clusters\n",
    "x = np.arange(k)\n",
    "ys = [i + x + (i*x)**2 for i in range(k)]\n",
    "colors_array = cm.rainbow(np.linspace(0, 1, len(ys)))\n",
    "rainbow = [colors.rgb2hex(i) for i in colors_array]\n",
    "\n",
    "# add markers to the map\n",
    "markers_colors = []\n",
    "for lat, lon, poi, cluster in zip(df['Latitude'], df['Longitude'], df['Neighbourhood'], df['Cluster Labels']):\n",
    "    label = folium.Popup(str(poi) + ' Cluster ' + str(cluster), parse_html=True)\n",
    "    folium.CircleMarker(\n",
    "        [lat, lon],\n",
    "        radius=5,\n",
    "        popup=label,\n",
    "        color=rainbow[cluster-1],\n",
    "        fill=True,\n",
    "        fill_color=rainbow[cluster-1],\n",
    "        fill_opacity=0.7).add_to(map_clusters)\n",
    "       \n",
    "map_clusters"
   ]
  }
 ],
 "metadata": {
  "kernelspec": {
   "display_name": "Python 3",
   "language": "python",
   "name": "python3"
  },
  "language_info": {
   "codemirror_mode": {
    "name": "ipython",
    "version": 3
   },
   "file_extension": ".py",
   "mimetype": "text/x-python",
   "name": "python",
   "nbconvert_exporter": "python",
   "pygments_lexer": "ipython3",
   "version": "3.7.1"
  }
 },
 "nbformat": 4,
 "nbformat_minor": 2
}
