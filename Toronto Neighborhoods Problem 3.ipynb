{
 "cells": [
  {
   "cell_type": "markdown",
   "metadata": {},
   "source": [
    "# Segmenting and Clustering Toronto Neighborhoods\n",
    "IBM DS Capstone Wk 3"
   ]
  },
  {
   "cell_type": "code",
   "execution_count": 67,
   "metadata": {},
   "outputs": [],
   "source": [
    "import numpy as np\n",
    "import pandas as pd\n",
    "#!pip install folium\n",
    "import folium\n",
    "from sklearn.cluster import KMeans\n",
    "#!conda install -c conda-forge geopy --yes\n",
    "from geopy.geocoders import Nominatim\n",
    "import matplotlib.cm as cm\n",
    "import matplotlib.colors as colors"
   ]
  },
  {
   "cell_type": "markdown",
   "metadata": {},
   "source": [
    "importing data from wikipedia"
   ]
  },
  {
   "cell_type": "code",
   "execution_count": 43,
   "metadata": {},
   "outputs": [
    {
     "data": {
      "text/html": [
       "<div>\n",
       "<style scoped>\n",
       "    .dataframe tbody tr th:only-of-type {\n",
       "        vertical-align: middle;\n",
       "    }\n",
       "\n",
       "    .dataframe tbody tr th {\n",
       "        vertical-align: top;\n",
       "    }\n",
       "\n",
       "    .dataframe thead th {\n",
       "        text-align: right;\n",
       "    }\n",
       "</style>\n",
       "<table border=\"1\" class=\"dataframe\">\n",
       "  <thead>\n",
       "    <tr style=\"text-align: right;\">\n",
       "      <th></th>\n",
       "      <th>Postal Code</th>\n",
       "      <th>Borough</th>\n",
       "      <th>Neighbourhood</th>\n",
       "    </tr>\n",
       "  </thead>\n",
       "  <tbody>\n",
       "    <tr>\n",
       "      <th>1</th>\n",
       "      <td>M1A</td>\n",
       "      <td>Not assigned</td>\n",
       "      <td>Not assigned</td>\n",
       "    </tr>\n",
       "    <tr>\n",
       "      <th>2</th>\n",
       "      <td>M2A</td>\n",
       "      <td>Not assigned</td>\n",
       "      <td>Not assigned</td>\n",
       "    </tr>\n",
       "    <tr>\n",
       "      <th>3</th>\n",
       "      <td>M3A</td>\n",
       "      <td>North York</td>\n",
       "      <td>Parkwoods</td>\n",
       "    </tr>\n",
       "    <tr>\n",
       "      <th>4</th>\n",
       "      <td>M4A</td>\n",
       "      <td>North York</td>\n",
       "      <td>Victoria Village</td>\n",
       "    </tr>\n",
       "    <tr>\n",
       "      <th>5</th>\n",
       "      <td>M5A</td>\n",
       "      <td>Downtown Toronto</td>\n",
       "      <td>Regent Park, Harbourfront</td>\n",
       "    </tr>\n",
       "  </tbody>\n",
       "</table>\n",
       "</div>"
      ],
      "text/plain": [
       "0 Postal Code           Borough              Neighbourhood\n",
       "1         M1A      Not assigned               Not assigned\n",
       "2         M2A      Not assigned               Not assigned\n",
       "3         M3A        North York                  Parkwoods\n",
       "4         M4A        North York           Victoria Village\n",
       "5         M5A  Downtown Toronto  Regent Park, Harbourfront"
      ]
     },
     "execution_count": 43,
     "metadata": {},
     "output_type": "execute_result"
    }
   ],
   "source": [
    "#load data\n",
    "df = pd.read_html(\"https://en.wikipedia.org/wiki/List_of_postal_codes_of_Canada:_M\")[0]\n",
    "\n",
    "#assign header\n",
    "new_header = df.iloc[0]\n",
    "df = df[1:]\n",
    "df.columns = new_header \n",
    "\n",
    "df.head()"
   ]
  },
  {
   "cell_type": "markdown",
   "metadata": {},
   "source": [
    "cleaning and formatting data"
   ]
  },
  {
   "cell_type": "code",
   "execution_count": 44,
   "metadata": {},
   "outputs": [
    {
     "data": {
      "text/plain": [
       "(103, 3)"
      ]
     },
     "execution_count": 44,
     "metadata": {},
     "output_type": "execute_result"
    }
   ],
   "source": [
    "#removes unassigned boroughs\n",
    "df = df[df['Borough'] != 'Not assigned']\n",
    "#reset index\n",
    "df = df.reset_index(drop=True)\n",
    "\n",
    "df.shape"
   ]
  },
  {
   "cell_type": "markdown",
   "metadata": {},
   "source": [
    "Getting coordinates and merging with wikipedia df"
   ]
  },
  {
   "cell_type": "code",
   "execution_count": 45,
   "metadata": {},
   "outputs": [
    {
     "data": {
      "text/html": [
       "<div>\n",
       "<style scoped>\n",
       "    .dataframe tbody tr th:only-of-type {\n",
       "        vertical-align: middle;\n",
       "    }\n",
       "\n",
       "    .dataframe tbody tr th {\n",
       "        vertical-align: top;\n",
       "    }\n",
       "\n",
       "    .dataframe thead th {\n",
       "        text-align: right;\n",
       "    }\n",
       "</style>\n",
       "<table border=\"1\" class=\"dataframe\">\n",
       "  <thead>\n",
       "    <tr style=\"text-align: right;\">\n",
       "      <th></th>\n",
       "      <th>Postal Code</th>\n",
       "      <th>Latitude</th>\n",
       "      <th>Longitude</th>\n",
       "    </tr>\n",
       "  </thead>\n",
       "  <tbody>\n",
       "    <tr>\n",
       "      <th>0</th>\n",
       "      <td>M1B</td>\n",
       "      <td>43.806686</td>\n",
       "      <td>-79.194353</td>\n",
       "    </tr>\n",
       "    <tr>\n",
       "      <th>1</th>\n",
       "      <td>M1C</td>\n",
       "      <td>43.784535</td>\n",
       "      <td>-79.160497</td>\n",
       "    </tr>\n",
       "    <tr>\n",
       "      <th>2</th>\n",
       "      <td>M1E</td>\n",
       "      <td>43.763573</td>\n",
       "      <td>-79.188711</td>\n",
       "    </tr>\n",
       "    <tr>\n",
       "      <th>3</th>\n",
       "      <td>M1G</td>\n",
       "      <td>43.770992</td>\n",
       "      <td>-79.216917</td>\n",
       "    </tr>\n",
       "    <tr>\n",
       "      <th>4</th>\n",
       "      <td>M1H</td>\n",
       "      <td>43.773136</td>\n",
       "      <td>-79.239476</td>\n",
       "    </tr>\n",
       "  </tbody>\n",
       "</table>\n",
       "</div>"
      ],
      "text/plain": [
       "  Postal Code   Latitude  Longitude\n",
       "0         M1B  43.806686 -79.194353\n",
       "1         M1C  43.784535 -79.160497\n",
       "2         M1E  43.763573 -79.188711\n",
       "3         M1G  43.770992 -79.216917\n",
       "4         M1H  43.773136 -79.239476"
      ]
     },
     "execution_count": 45,
     "metadata": {},
     "output_type": "execute_result"
    }
   ],
   "source": [
    "#load data\n",
    "df2 = pd.read_csv('https://cocl.us/Geospatial_data')\n",
    "df2.head()"
   ]
  },
  {
   "cell_type": "code",
   "execution_count": 46,
   "metadata": {},
   "outputs": [
    {
     "data": {
      "text/html": [
       "<div>\n",
       "<style scoped>\n",
       "    .dataframe tbody tr th:only-of-type {\n",
       "        vertical-align: middle;\n",
       "    }\n",
       "\n",
       "    .dataframe tbody tr th {\n",
       "        vertical-align: top;\n",
       "    }\n",
       "\n",
       "    .dataframe thead th {\n",
       "        text-align: right;\n",
       "    }\n",
       "</style>\n",
       "<table border=\"1\" class=\"dataframe\">\n",
       "  <thead>\n",
       "    <tr style=\"text-align: right;\">\n",
       "      <th></th>\n",
       "      <th>Postal Code</th>\n",
       "      <th>Borough</th>\n",
       "      <th>Neighbourhood</th>\n",
       "      <th>Latitude</th>\n",
       "      <th>Longitude</th>\n",
       "    </tr>\n",
       "  </thead>\n",
       "  <tbody>\n",
       "    <tr>\n",
       "      <th>0</th>\n",
       "      <td>M3A</td>\n",
       "      <td>North York</td>\n",
       "      <td>Parkwoods</td>\n",
       "      <td>43.753259</td>\n",
       "      <td>-79.329656</td>\n",
       "    </tr>\n",
       "    <tr>\n",
       "      <th>1</th>\n",
       "      <td>M4A</td>\n",
       "      <td>North York</td>\n",
       "      <td>Victoria Village</td>\n",
       "      <td>43.725882</td>\n",
       "      <td>-79.315572</td>\n",
       "    </tr>\n",
       "    <tr>\n",
       "      <th>2</th>\n",
       "      <td>M5A</td>\n",
       "      <td>Downtown Toronto</td>\n",
       "      <td>Regent Park, Harbourfront</td>\n",
       "      <td>43.654260</td>\n",
       "      <td>-79.360636</td>\n",
       "    </tr>\n",
       "    <tr>\n",
       "      <th>3</th>\n",
       "      <td>M6A</td>\n",
       "      <td>North York</td>\n",
       "      <td>Lawrence Manor, Lawrence Heights</td>\n",
       "      <td>43.718518</td>\n",
       "      <td>-79.464763</td>\n",
       "    </tr>\n",
       "    <tr>\n",
       "      <th>4</th>\n",
       "      <td>M7A</td>\n",
       "      <td>Downtown Toronto</td>\n",
       "      <td>Queen's Park, Ontario Provincial Government</td>\n",
       "      <td>43.662301</td>\n",
       "      <td>-79.389494</td>\n",
       "    </tr>\n",
       "  </tbody>\n",
       "</table>\n",
       "</div>"
      ],
      "text/plain": [
       "  Postal Code           Borough                                Neighbourhood  \\\n",
       "0         M3A        North York                                    Parkwoods   \n",
       "1         M4A        North York                             Victoria Village   \n",
       "2         M5A  Downtown Toronto                    Regent Park, Harbourfront   \n",
       "3         M6A        North York             Lawrence Manor, Lawrence Heights   \n",
       "4         M7A  Downtown Toronto  Queen's Park, Ontario Provincial Government   \n",
       "\n",
       "    Latitude  Longitude  \n",
       "0  43.753259 -79.329656  \n",
       "1  43.725882 -79.315572  \n",
       "2  43.654260 -79.360636  \n",
       "3  43.718518 -79.464763  \n",
       "4  43.662301 -79.389494  "
      ]
     },
     "execution_count": 46,
     "metadata": {},
     "output_type": "execute_result"
    }
   ],
   "source": [
    "#merge data\n",
    "df = pd.merge(df, df2, on = 'Postal Code')\n",
    "df.head()"
   ]
  },
  {
   "cell_type": "markdown",
   "metadata": {},
   "source": [
    "adding a map"
   ]
  },
  {
   "cell_type": "code",
   "execution_count": 56,
   "metadata": {},
   "outputs": [
    {
     "data": {
      "text/html": [
       "<div>\n",
       "<style scoped>\n",
       "    .dataframe tbody tr th:only-of-type {\n",
       "        vertical-align: middle;\n",
       "    }\n",
       "\n",
       "    .dataframe tbody tr th {\n",
       "        vertical-align: top;\n",
       "    }\n",
       "\n",
       "    .dataframe thead th {\n",
       "        text-align: right;\n",
       "    }\n",
       "</style>\n",
       "<table border=\"1\" class=\"dataframe\">\n",
       "  <thead>\n",
       "    <tr style=\"text-align: right;\">\n",
       "      <th></th>\n",
       "      <th>Postal Code</th>\n",
       "      <th>Borough</th>\n",
       "      <th>Neighbourhood</th>\n",
       "      <th>Latitude</th>\n",
       "      <th>Longitude</th>\n",
       "    </tr>\n",
       "  </thead>\n",
       "  <tbody>\n",
       "    <tr>\n",
       "      <th>0</th>\n",
       "      <td>M5A</td>\n",
       "      <td>Downtown Toronto</td>\n",
       "      <td>Regent Park, Harbourfront</td>\n",
       "      <td>43.654260</td>\n",
       "      <td>-79.360636</td>\n",
       "    </tr>\n",
       "    <tr>\n",
       "      <th>1</th>\n",
       "      <td>M7A</td>\n",
       "      <td>Downtown Toronto</td>\n",
       "      <td>Queen's Park, Ontario Provincial Government</td>\n",
       "      <td>43.662301</td>\n",
       "      <td>-79.389494</td>\n",
       "    </tr>\n",
       "    <tr>\n",
       "      <th>2</th>\n",
       "      <td>M5B</td>\n",
       "      <td>Downtown Toronto</td>\n",
       "      <td>Garden District, Ryerson</td>\n",
       "      <td>43.657162</td>\n",
       "      <td>-79.378937</td>\n",
       "    </tr>\n",
       "    <tr>\n",
       "      <th>3</th>\n",
       "      <td>M5C</td>\n",
       "      <td>Downtown Toronto</td>\n",
       "      <td>St. James Town</td>\n",
       "      <td>43.651494</td>\n",
       "      <td>-79.375418</td>\n",
       "    </tr>\n",
       "    <tr>\n",
       "      <th>4</th>\n",
       "      <td>M4E</td>\n",
       "      <td>East Toronto</td>\n",
       "      <td>The Beaches</td>\n",
       "      <td>43.676357</td>\n",
       "      <td>-79.293031</td>\n",
       "    </tr>\n",
       "  </tbody>\n",
       "</table>\n",
       "</div>"
      ],
      "text/plain": [
       "  Postal Code           Borough                                Neighbourhood  \\\n",
       "0         M5A  Downtown Toronto                    Regent Park, Harbourfront   \n",
       "1         M7A  Downtown Toronto  Queen's Park, Ontario Provincial Government   \n",
       "2         M5B  Downtown Toronto                     Garden District, Ryerson   \n",
       "3         M5C  Downtown Toronto                               St. James Town   \n",
       "4         M4E      East Toronto                                  The Beaches   \n",
       "\n",
       "    Latitude  Longitude  \n",
       "0  43.654260 -79.360636  \n",
       "1  43.662301 -79.389494  \n",
       "2  43.657162 -79.378937  \n",
       "3  43.651494 -79.375418  \n",
       "4  43.676357 -79.293031  "
      ]
     },
     "execution_count": 56,
     "metadata": {},
     "output_type": "execute_result"
    }
   ],
   "source": [
    "#find toronto data\n",
    "df = df[df['Borough'].str.contains('Toronto', regex=False)]\n",
    "#reset index\n",
    "df = df.reset_index(drop=True)\n",
    "\n",
    "df.head()"
   ]
  },
  {
   "cell_type": "code",
   "execution_count": 70,
   "metadata": {},
   "outputs": [
    {
     "data": {
      "text/html": [
       "<div style=\"width:100%;\"><div style=\"position:relative;width:100%;height:0;padding-bottom:60%;\"><span style=\"color:#565656\">Make this Notebook Trusted to load map: File -> Trust Notebook</span><iframe src=\"about:blank\" style=\"position:absolute;width:100%;height:100%;left:0;top:0;border:none !important;\" data-html=PCFET0NUWVBFIGh0bWw+CjxoZWFkPiAgICAKICAgIDxtZXRhIGh0dHAtZXF1aXY9ImNvbnRlbnQtdHlwZSIgY29udGVudD0idGV4dC9odG1sOyBjaGFyc2V0PVVURi04IiAvPgogICAgCiAgICAgICAgPHNjcmlwdD4KICAgICAgICAgICAgTF9OT19UT1VDSCA9IGZhbHNlOwogICAgICAgICAgICBMX0RJU0FCTEVfM0QgPSBmYWxzZTsKICAgICAgICA8L3NjcmlwdD4KICAgIAogICAgPHNjcmlwdCBzcmM9Imh0dHBzOi8vY2RuLmpzZGVsaXZyLm5ldC9ucG0vbGVhZmxldEAxLjYuMC9kaXN0L2xlYWZsZXQuanMiPjwvc2NyaXB0PgogICAgPHNjcmlwdCBzcmM9Imh0dHBzOi8vY29kZS5qcXVlcnkuY29tL2pxdWVyeS0xLjEyLjQubWluLmpzIj48L3NjcmlwdD4KICAgIDxzY3JpcHQgc3JjPSJodHRwczovL21heGNkbi5ib290c3RyYXBjZG4uY29tL2Jvb3RzdHJhcC8zLjIuMC9qcy9ib290c3RyYXAubWluLmpzIj48L3NjcmlwdD4KICAgIDxzY3JpcHQgc3JjPSJodHRwczovL2NkbmpzLmNsb3VkZmxhcmUuY29tL2FqYXgvbGlicy9MZWFmbGV0LmF3ZXNvbWUtbWFya2Vycy8yLjAuMi9sZWFmbGV0LmF3ZXNvbWUtbWFya2Vycy5qcyI+PC9zY3JpcHQ+CiAgICA8bGluayByZWw9InN0eWxlc2hlZXQiIGhyZWY9Imh0dHBzOi8vY2RuLmpzZGVsaXZyLm5ldC9ucG0vbGVhZmxldEAxLjYuMC9kaXN0L2xlYWZsZXQuY3NzIi8+CiAgICA8bGluayByZWw9InN0eWxlc2hlZXQiIGhyZWY9Imh0dHBzOi8vbWF4Y2RuLmJvb3RzdHJhcGNkbi5jb20vYm9vdHN0cmFwLzMuMi4wL2Nzcy9ib290c3RyYXAubWluLmNzcyIvPgogICAgPGxpbmsgcmVsPSJzdHlsZXNoZWV0IiBocmVmPSJodHRwczovL21heGNkbi5ib290c3RyYXBjZG4uY29tL2Jvb3RzdHJhcC8zLjIuMC9jc3MvYm9vdHN0cmFwLXRoZW1lLm1pbi5jc3MiLz4KICAgIDxsaW5rIHJlbD0ic3R5bGVzaGVldCIgaHJlZj0iaHR0cHM6Ly9tYXhjZG4uYm9vdHN0cmFwY2RuLmNvbS9mb250LWF3ZXNvbWUvNC42LjMvY3NzL2ZvbnQtYXdlc29tZS5taW4uY3NzIi8+CiAgICA8bGluayByZWw9InN0eWxlc2hlZXQiIGhyZWY9Imh0dHBzOi8vY2RuanMuY2xvdWRmbGFyZS5jb20vYWpheC9saWJzL0xlYWZsZXQuYXdlc29tZS1tYXJrZXJzLzIuMC4yL2xlYWZsZXQuYXdlc29tZS1tYXJrZXJzLmNzcyIvPgogICAgPGxpbmsgcmVsPSJzdHlsZXNoZWV0IiBocmVmPSJodHRwczovL3Jhd2Nkbi5naXRoYWNrLmNvbS9weXRob24tdmlzdWFsaXphdGlvbi9mb2xpdW0vbWFzdGVyL2ZvbGl1bS90ZW1wbGF0ZXMvbGVhZmxldC5hd2Vzb21lLnJvdGF0ZS5jc3MiLz4KICAgIDxzdHlsZT5odG1sLCBib2R5IHt3aWR0aDogMTAwJTtoZWlnaHQ6IDEwMCU7bWFyZ2luOiAwO3BhZGRpbmc6IDA7fTwvc3R5bGU+CiAgICA8c3R5bGU+I21hcCB7cG9zaXRpb246YWJzb2x1dGU7dG9wOjA7Ym90dG9tOjA7cmlnaHQ6MDtsZWZ0OjA7fTwvc3R5bGU+CiAgICAKICAgICAgICAgICAgPG1ldGEgbmFtZT0idmlld3BvcnQiIGNvbnRlbnQ9IndpZHRoPWRldmljZS13aWR0aCwKICAgICAgICAgICAgICAgIGluaXRpYWwtc2NhbGU9MS4wLCBtYXhpbXVtLXNjYWxlPTEuMCwgdXNlci1zY2FsYWJsZT1ubyIgLz4KICAgICAgICAgICAgPHN0eWxlPgogICAgICAgICAgICAgICAgI21hcF8zODI4ODU3MWU2MTg0MDBjYjllM2JkNTM3NjM0OGJhNyB7CiAgICAgICAgICAgICAgICAgICAgcG9zaXRpb246IHJlbGF0aXZlOwogICAgICAgICAgICAgICAgICAgIHdpZHRoOiAxMDAuMCU7CiAgICAgICAgICAgICAgICAgICAgaGVpZ2h0OiAxMDAuMCU7CiAgICAgICAgICAgICAgICAgICAgbGVmdDogMC4wJTsKICAgICAgICAgICAgICAgICAgICB0b3A6IDAuMCU7CiAgICAgICAgICAgICAgICB9CiAgICAgICAgICAgIDwvc3R5bGU+CiAgICAgICAgCjwvaGVhZD4KPGJvZHk+ICAgIAogICAgCiAgICAgICAgICAgIDxkaXYgY2xhc3M9ImZvbGl1bS1tYXAiIGlkPSJtYXBfMzgyODg1NzFlNjE4NDAwY2I5ZTNiZDUzNzYzNDhiYTciID48L2Rpdj4KICAgICAgICAKPC9ib2R5Pgo8c2NyaXB0PiAgICAKICAgIAogICAgICAgICAgICB2YXIgbWFwXzM4Mjg4NTcxZTYxODQwMGNiOWUzYmQ1Mzc2MzQ4YmE3ID0gTC5tYXAoCiAgICAgICAgICAgICAgICAibWFwXzM4Mjg4NTcxZTYxODQwMGNiOWUzYmQ1Mzc2MzQ4YmE3IiwKICAgICAgICAgICAgICAgIHsKICAgICAgICAgICAgICAgICAgICBjZW50ZXI6IFs0My42NTEwNywgLTc5LjM0NzAxNV0sCiAgICAgICAgICAgICAgICAgICAgY3JzOiBMLkNSUy5FUFNHMzg1NywKICAgICAgICAgICAgICAgICAgICB6b29tOiAxMCwKICAgICAgICAgICAgICAgICAgICB6b29tQ29udHJvbDogdHJ1ZSwKICAgICAgICAgICAgICAgICAgICBwcmVmZXJDYW52YXM6IGZhbHNlLAogICAgICAgICAgICAgICAgfQogICAgICAgICAgICApOwoKICAgICAgICAgICAgCgogICAgICAgIAogICAgCiAgICAgICAgICAgIHZhciB0aWxlX2xheWVyX2RkNzI4MTE3ZDMzODRiM2JhMmRhM2IxNjRjODM5NjM3ID0gTC50aWxlTGF5ZXIoCiAgICAgICAgICAgICAgICAiaHR0cHM6Ly97c30udGlsZS5vcGVuc3RyZWV0bWFwLm9yZy97en0ve3h9L3t5fS5wbmciLAogICAgICAgICAgICAgICAgeyJhdHRyaWJ1dGlvbiI6ICJEYXRhIGJ5IFx1MDAyNmNvcHk7IFx1MDAzY2EgaHJlZj1cImh0dHA6Ly9vcGVuc3RyZWV0bWFwLm9yZ1wiXHUwMDNlT3BlblN0cmVldE1hcFx1MDAzYy9hXHUwMDNlLCB1bmRlciBcdTAwM2NhIGhyZWY9XCJodHRwOi8vd3d3Lm9wZW5zdHJlZXRtYXAub3JnL2NvcHlyaWdodFwiXHUwMDNlT0RiTFx1MDAzYy9hXHUwMDNlLiIsICJkZXRlY3RSZXRpbmEiOiBmYWxzZSwgIm1heE5hdGl2ZVpvb20iOiAxOCwgIm1heFpvb20iOiAxOCwgIm1pblpvb20iOiAwLCAibm9XcmFwIjogZmFsc2UsICJvcGFjaXR5IjogMSwgInN1YmRvbWFpbnMiOiAiYWJjIiwgInRtcyI6IGZhbHNlfQogICAgICAgICAgICApLmFkZFRvKG1hcF8zODI4ODU3MWU2MTg0MDBjYjllM2JkNTM3NjM0OGJhNyk7CiAgICAgICAgCiAgICAKICAgICAgICAgICAgdmFyIGNpcmNsZV9tYXJrZXJfMDQ3MWMwM2E0NjFjNDlhMzlhOGQ2ZTExZmE3YThmYjUgPSBMLmNpcmNsZU1hcmtlcigKICAgICAgICAgICAgICAgIFs0My42NTQyNTk5LCAtNzkuMzYwNjM1OV0sCiAgICAgICAgICAgICAgICB7ImJ1YmJsaW5nTW91c2VFdmVudHMiOiB0cnVlLCAiY29sb3IiOiAiYmx1ZSIsICJkYXNoQXJyYXkiOiBudWxsLCAiZGFzaE9mZnNldCI6IG51bGwsICJmaWxsIjogdHJ1ZSwgImZpbGxDb2xvciI6ICIjMzE4NmNjIiwgImZpbGxPcGFjaXR5IjogMC43LCAiZmlsbFJ1bGUiOiAiZXZlbm9kZCIsICJsaW5lQ2FwIjogInJvdW5kIiwgImxpbmVKb2luIjogInJvdW5kIiwgIm9wYWNpdHkiOiAxLjAsICJyYWRpdXMiOiA1LCAic3Ryb2tlIjogdHJ1ZSwgIndlaWdodCI6IDN9CiAgICAgICAgICAgICkuYWRkVG8obWFwXzM4Mjg4NTcxZTYxODQwMGNiOWUzYmQ1Mzc2MzQ4YmE3KTsKICAgICAgICAKICAgIAogICAgICAgIHZhciBwb3B1cF84NzMzOWE0ZWI4YzY0MzNkOTRiN2NlMWM3MDQxZTJkYSA9IEwucG9wdXAoeyJtYXhXaWR0aCI6ICIxMDAlIn0pOwoKICAgICAgICAKICAgICAgICAgICAgdmFyIGh0bWxfYzY2YzBkYTU1NmYwNDJlNWJhYjlhZDBhMTc5NGRiMjEgPSAkKGA8ZGl2IGlkPSJodG1sX2M2NmMwZGE1NTZmMDQyZTViYWI5YWQwYTE3OTRkYjIxIiBzdHlsZT0id2lkdGg6IDEwMC4wJTsgaGVpZ2h0OiAxMDAuMCU7Ij5SZWdlbnQgUGFyaywgSGFyYm91cmZyb250LCBEb3dudG93biBUb3JvbnRvPC9kaXY+YClbMF07CiAgICAgICAgICAgIHBvcHVwXzg3MzM5YTRlYjhjNjQzM2Q5NGI3Y2UxYzcwNDFlMmRhLnNldENvbnRlbnQoaHRtbF9jNjZjMGRhNTU2ZjA0MmU1YmFiOWFkMGExNzk0ZGIyMSk7CiAgICAgICAgCgogICAgICAgIGNpcmNsZV9tYXJrZXJfMDQ3MWMwM2E0NjFjNDlhMzlhOGQ2ZTExZmE3YThmYjUuYmluZFBvcHVwKHBvcHVwXzg3MzM5YTRlYjhjNjQzM2Q5NGI3Y2UxYzcwNDFlMmRhKQogICAgICAgIDsKCiAgICAgICAgCiAgICAKICAgIAogICAgICAgICAgICB2YXIgY2lyY2xlX21hcmtlcl9kMjQzMjlkMGUwYTI0ZmNlOGQyNjdlYmJjMTkwMTNkYSA9IEwuY2lyY2xlTWFya2VyKAogICAgICAgICAgICAgICAgWzQzLjY2MjMwMTUsIC03OS4zODk0OTM4XSwKICAgICAgICAgICAgICAgIHsiYnViYmxpbmdNb3VzZUV2ZW50cyI6IHRydWUsICJjb2xvciI6ICJibHVlIiwgImRhc2hBcnJheSI6IG51bGwsICJkYXNoT2Zmc2V0IjogbnVsbCwgImZpbGwiOiB0cnVlLCAiZmlsbENvbG9yIjogIiMzMTg2Y2MiLCAiZmlsbE9wYWNpdHkiOiAwLjcsICJmaWxsUnVsZSI6ICJldmVub2RkIiwgImxpbmVDYXAiOiAicm91bmQiLCAibGluZUpvaW4iOiAicm91bmQiLCAib3BhY2l0eSI6IDEuMCwgInJhZGl1cyI6IDUsICJzdHJva2UiOiB0cnVlLCAid2VpZ2h0IjogM30KICAgICAgICAgICAgKS5hZGRUbyhtYXBfMzgyODg1NzFlNjE4NDAwY2I5ZTNiZDUzNzYzNDhiYTcpOwogICAgICAgIAogICAgCiAgICAgICAgdmFyIHBvcHVwX2U5OTk4MzVjZjY4NzQ2OGZhOGVjNjg4MWI3NWNjOTAyID0gTC5wb3B1cCh7Im1heFdpZHRoIjogIjEwMCUifSk7CgogICAgICAgIAogICAgICAgICAgICB2YXIgaHRtbF81YTRiNzMyZjY5MmQ0OTRjYmRkODYxY2I5NWUyN2JlOCA9ICQoYDxkaXYgaWQ9Imh0bWxfNWE0YjczMmY2OTJkNDk0Y2JkZDg2MWNiOTVlMjdiZTgiIHN0eWxlPSJ3aWR0aDogMTAwLjAlOyBoZWlnaHQ6IDEwMC4wJTsiPlF1ZWVuJiMzOTtzIFBhcmssIE9udGFyaW8gUHJvdmluY2lhbCBHb3Zlcm5tZW50LCBEb3dudG93biBUb3JvbnRvPC9kaXY+YClbMF07CiAgICAgICAgICAgIHBvcHVwX2U5OTk4MzVjZjY4NzQ2OGZhOGVjNjg4MWI3NWNjOTAyLnNldENvbnRlbnQoaHRtbF81YTRiNzMyZjY5MmQ0OTRjYmRkODYxY2I5NWUyN2JlOCk7CiAgICAgICAgCgogICAgICAgIGNpcmNsZV9tYXJrZXJfZDI0MzI5ZDBlMGEyNGZjZThkMjY3ZWJiYzE5MDEzZGEuYmluZFBvcHVwKHBvcHVwX2U5OTk4MzVjZjY4NzQ2OGZhOGVjNjg4MWI3NWNjOTAyKQogICAgICAgIDsKCiAgICAgICAgCiAgICAKICAgIAogICAgICAgICAgICB2YXIgY2lyY2xlX21hcmtlcl8zYTFhOTNkODFmYmY0ZmIwOTQzMDYwMDJkN2FkODU0MiA9IEwuY2lyY2xlTWFya2VyKAogICAgICAgICAgICAgICAgWzQzLjY1NzE2MTgsIC03OS4zNzg5MzcwOTk5OTk5OV0sCiAgICAgICAgICAgICAgICB7ImJ1YmJsaW5nTW91c2VFdmVudHMiOiB0cnVlLCAiY29sb3IiOiAiYmx1ZSIsICJkYXNoQXJyYXkiOiBudWxsLCAiZGFzaE9mZnNldCI6IG51bGwsICJmaWxsIjogdHJ1ZSwgImZpbGxDb2xvciI6ICIjMzE4NmNjIiwgImZpbGxPcGFjaXR5IjogMC43LCAiZmlsbFJ1bGUiOiAiZXZlbm9kZCIsICJsaW5lQ2FwIjogInJvdW5kIiwgImxpbmVKb2luIjogInJvdW5kIiwgIm9wYWNpdHkiOiAxLjAsICJyYWRpdXMiOiA1LCAic3Ryb2tlIjogdHJ1ZSwgIndlaWdodCI6IDN9CiAgICAgICAgICAgICkuYWRkVG8obWFwXzM4Mjg4NTcxZTYxODQwMGNiOWUzYmQ1Mzc2MzQ4YmE3KTsKICAgICAgICAKICAgIAogICAgICAgIHZhciBwb3B1cF9lMGYxNTJmYTAwMTY0NTMxYjQ5YTM2M2Y1YWUwODRhMyA9IEwucG9wdXAoeyJtYXhXaWR0aCI6ICIxMDAlIn0pOwoKICAgICAgICAKICAgICAgICAgICAgdmFyIGh0bWxfNDM2YzRiNzkwODVjNDQxM2JjZTZlYzZlZWU1YzQ5YTAgPSAkKGA8ZGl2IGlkPSJodG1sXzQzNmM0Yjc5MDg1YzQ0MTNiY2U2ZWM2ZWVlNWM0OWEwIiBzdHlsZT0id2lkdGg6IDEwMC4wJTsgaGVpZ2h0OiAxMDAuMCU7Ij5HYXJkZW4gRGlzdHJpY3QsIFJ5ZXJzb24sIERvd250b3duIFRvcm9udG88L2Rpdj5gKVswXTsKICAgICAgICAgICAgcG9wdXBfZTBmMTUyZmEwMDE2NDUzMWI0OWEzNjNmNWFlMDg0YTMuc2V0Q29udGVudChodG1sXzQzNmM0Yjc5MDg1YzQ0MTNiY2U2ZWM2ZWVlNWM0OWEwKTsKICAgICAgICAKCiAgICAgICAgY2lyY2xlX21hcmtlcl8zYTFhOTNkODFmYmY0ZmIwOTQzMDYwMDJkN2FkODU0Mi5iaW5kUG9wdXAocG9wdXBfZTBmMTUyZmEwMDE2NDUzMWI0OWEzNjNmNWFlMDg0YTMpCiAgICAgICAgOwoKICAgICAgICAKICAgIAogICAgCiAgICAgICAgICAgIHZhciBjaXJjbGVfbWFya2VyXzVjMGYyOTYzMTMyYTQ0NzdiYzMzZTY4ZDk2ZTUzMGVhID0gTC5jaXJjbGVNYXJrZXIoCiAgICAgICAgICAgICAgICBbNDMuNjUxNDkzOSwgLTc5LjM3NTQxNzldLAogICAgICAgICAgICAgICAgeyJidWJibGluZ01vdXNlRXZlbnRzIjogdHJ1ZSwgImNvbG9yIjogImJsdWUiLCAiZGFzaEFycmF5IjogbnVsbCwgImRhc2hPZmZzZXQiOiBudWxsLCAiZmlsbCI6IHRydWUsICJmaWxsQ29sb3IiOiAiIzMxODZjYyIsICJmaWxsT3BhY2l0eSI6IDAuNywgImZpbGxSdWxlIjogImV2ZW5vZGQiLCAibGluZUNhcCI6ICJyb3VuZCIsICJsaW5lSm9pbiI6ICJyb3VuZCIsICJvcGFjaXR5IjogMS4wLCAicmFkaXVzIjogNSwgInN0cm9rZSI6IHRydWUsICJ3ZWlnaHQiOiAzfQogICAgICAgICAgICApLmFkZFRvKG1hcF8zODI4ODU3MWU2MTg0MDBjYjllM2JkNTM3NjM0OGJhNyk7CiAgICAgICAgCiAgICAKICAgICAgICB2YXIgcG9wdXBfNGVhNGJmYzk0OTAwNGFiZDlmMTI4OGNjNTZmOWZjNmIgPSBMLnBvcHVwKHsibWF4V2lkdGgiOiAiMTAwJSJ9KTsKCiAgICAgICAgCiAgICAgICAgICAgIHZhciBodG1sXzE2ZTE5OGNjNzRiYzQxNGRhZjI3YzFlZjg0OGVhYjk1ID0gJChgPGRpdiBpZD0iaHRtbF8xNmUxOThjYzc0YmM0MTRkYWYyN2MxZWY4NDhlYWI5NSIgc3R5bGU9IndpZHRoOiAxMDAuMCU7IGhlaWdodDogMTAwLjAlOyI+U3QuIEphbWVzIFRvd24sIERvd250b3duIFRvcm9udG88L2Rpdj5gKVswXTsKICAgICAgICAgICAgcG9wdXBfNGVhNGJmYzk0OTAwNGFiZDlmMTI4OGNjNTZmOWZjNmIuc2V0Q29udGVudChodG1sXzE2ZTE5OGNjNzRiYzQxNGRhZjI3YzFlZjg0OGVhYjk1KTsKICAgICAgICAKCiAgICAgICAgY2lyY2xlX21hcmtlcl81YzBmMjk2MzEzMmE0NDc3YmMzM2U2OGQ5NmU1MzBlYS5iaW5kUG9wdXAocG9wdXBfNGVhNGJmYzk0OTAwNGFiZDlmMTI4OGNjNTZmOWZjNmIpCiAgICAgICAgOwoKICAgICAgICAKICAgIAogICAgCiAgICAgICAgICAgIHZhciBjaXJjbGVfbWFya2VyX2NiNGYwNzJiYTgxODQ5ZTk4NGVjNWJmZjljMGZmMzYxID0gTC5jaXJjbGVNYXJrZXIoCiAgICAgICAgICAgICAgICBbNDMuNjc2MzU3Mzk5OTk5OTksIC03OS4yOTMwMzEyXSwKICAgICAgICAgICAgICAgIHsiYnViYmxpbmdNb3VzZUV2ZW50cyI6IHRydWUsICJjb2xvciI6ICJibHVlIiwgImRhc2hBcnJheSI6IG51bGwsICJkYXNoT2Zmc2V0IjogbnVsbCwgImZpbGwiOiB0cnVlLCAiZmlsbENvbG9yIjogIiMzMTg2Y2MiLCAiZmlsbE9wYWNpdHkiOiAwLjcsICJmaWxsUnVsZSI6ICJldmVub2RkIiwgImxpbmVDYXAiOiAicm91bmQiLCAibGluZUpvaW4iOiAicm91bmQiLCAib3BhY2l0eSI6IDEuMCwgInJhZGl1cyI6IDUsICJzdHJva2UiOiB0cnVlLCAid2VpZ2h0IjogM30KICAgICAgICAgICAgKS5hZGRUbyhtYXBfMzgyODg1NzFlNjE4NDAwY2I5ZTNiZDUzNzYzNDhiYTcpOwogICAgICAgIAogICAgCiAgICAgICAgdmFyIHBvcHVwXzY4MWFkMTE2MjRiNDQ0NjliMjlhNjc5YjJlMTM4ODQxID0gTC5wb3B1cCh7Im1heFdpZHRoIjogIjEwMCUifSk7CgogICAgICAgIAogICAgICAgICAgICB2YXIgaHRtbF80NTQ3ZWUzN2VkMDk0ZWRmYjYzM2RmMGMyMDgxMjcyNCA9ICQoYDxkaXYgaWQ9Imh0bWxfNDU0N2VlMzdlZDA5NGVkZmI2MzNkZjBjMjA4MTI3MjQiIHN0eWxlPSJ3aWR0aDogMTAwLjAlOyBoZWlnaHQ6IDEwMC4wJTsiPlRoZSBCZWFjaGVzLCBFYXN0IFRvcm9udG88L2Rpdj5gKVswXTsKICAgICAgICAgICAgcG9wdXBfNjgxYWQxMTYyNGI0NDQ2OWIyOWE2NzliMmUxMzg4NDEuc2V0Q29udGVudChodG1sXzQ1NDdlZTM3ZWQwOTRlZGZiNjMzZGYwYzIwODEyNzI0KTsKICAgICAgICAKCiAgICAgICAgY2lyY2xlX21hcmtlcl9jYjRmMDcyYmE4MTg0OWU5ODRlYzViZmY5YzBmZjM2MS5iaW5kUG9wdXAocG9wdXBfNjgxYWQxMTYyNGI0NDQ2OWIyOWE2NzliMmUxMzg4NDEpCiAgICAgICAgOwoKICAgICAgICAKICAgIAogICAgCiAgICAgICAgICAgIHZhciBjaXJjbGVfbWFya2VyXzNmYzVlOTY4YmY4ZTQ3ODliZWM5ZGU2Njc1ZjAxOGFmID0gTC5jaXJjbGVNYXJrZXIoCiAgICAgICAgICAgICAgICBbNDMuNjQ0NzcwNzk5OTk5OTk2LCAtNzkuMzczMzA2NF0sCiAgICAgICAgICAgICAgICB7ImJ1YmJsaW5nTW91c2VFdmVudHMiOiB0cnVlLCAiY29sb3IiOiAiYmx1ZSIsICJkYXNoQXJyYXkiOiBudWxsLCAiZGFzaE9mZnNldCI6IG51bGwsICJmaWxsIjogdHJ1ZSwgImZpbGxDb2xvciI6ICIjMzE4NmNjIiwgImZpbGxPcGFjaXR5IjogMC43LCAiZmlsbFJ1bGUiOiAiZXZlbm9kZCIsICJsaW5lQ2FwIjogInJvdW5kIiwgImxpbmVKb2luIjogInJvdW5kIiwgIm9wYWNpdHkiOiAxLjAsICJyYWRpdXMiOiA1LCAic3Ryb2tlIjogdHJ1ZSwgIndlaWdodCI6IDN9CiAgICAgICAgICAgICkuYWRkVG8obWFwXzM4Mjg4NTcxZTYxODQwMGNiOWUzYmQ1Mzc2MzQ4YmE3KTsKICAgICAgICAKICAgIAogICAgICAgIHZhciBwb3B1cF8xYzFkYmNiMWQwMjA0MTM2ODhkNDAyOTIzZmFmNjg1NyA9IEwucG9wdXAoeyJtYXhXaWR0aCI6ICIxMDAlIn0pOwoKICAgICAgICAKICAgICAgICAgICAgdmFyIGh0bWxfYjJjZDQwYWI5N2I4NDNhY2FmYTkwNjM4MDM2YjZlZWUgPSAkKGA8ZGl2IGlkPSJodG1sX2IyY2Q0MGFiOTdiODQzYWNhZmE5MDYzODAzNmI2ZWVlIiBzdHlsZT0id2lkdGg6IDEwMC4wJTsgaGVpZ2h0OiAxMDAuMCU7Ij5CZXJjenkgUGFyaywgRG93bnRvd24gVG9yb250bzwvZGl2PmApWzBdOwogICAgICAgICAgICBwb3B1cF8xYzFkYmNiMWQwMjA0MTM2ODhkNDAyOTIzZmFmNjg1Ny5zZXRDb250ZW50KGh0bWxfYjJjZDQwYWI5N2I4NDNhY2FmYTkwNjM4MDM2YjZlZWUpOwogICAgICAgIAoKICAgICAgICBjaXJjbGVfbWFya2VyXzNmYzVlOTY4YmY4ZTQ3ODliZWM5ZGU2Njc1ZjAxOGFmLmJpbmRQb3B1cChwb3B1cF8xYzFkYmNiMWQwMjA0MTM2ODhkNDAyOTIzZmFmNjg1NykKICAgICAgICA7CgogICAgICAgIAogICAgCiAgICAKICAgICAgICAgICAgdmFyIGNpcmNsZV9tYXJrZXJfNTFhY2M2NWMxNzJmNDJlZmJmNmRlMTBkN2ZhM2VmYTEgPSBMLmNpcmNsZU1hcmtlcigKICAgICAgICAgICAgICAgIFs0My42NTc5NTI0LCAtNzkuMzg3MzgyNl0sCiAgICAgICAgICAgICAgICB7ImJ1YmJsaW5nTW91c2VFdmVudHMiOiB0cnVlLCAiY29sb3IiOiAiYmx1ZSIsICJkYXNoQXJyYXkiOiBudWxsLCAiZGFzaE9mZnNldCI6IG51bGwsICJmaWxsIjogdHJ1ZSwgImZpbGxDb2xvciI6ICIjMzE4NmNjIiwgImZpbGxPcGFjaXR5IjogMC43LCAiZmlsbFJ1bGUiOiAiZXZlbm9kZCIsICJsaW5lQ2FwIjogInJvdW5kIiwgImxpbmVKb2luIjogInJvdW5kIiwgIm9wYWNpdHkiOiAxLjAsICJyYWRpdXMiOiA1LCAic3Ryb2tlIjogdHJ1ZSwgIndlaWdodCI6IDN9CiAgICAgICAgICAgICkuYWRkVG8obWFwXzM4Mjg4NTcxZTYxODQwMGNiOWUzYmQ1Mzc2MzQ4YmE3KTsKICAgICAgICAKICAgIAogICAgICAgIHZhciBwb3B1cF85Mzc2MWU2YTcwMjk0NDQ5OTBiNWYxYmVlZTZjMmFmMyA9IEwucG9wdXAoeyJtYXhXaWR0aCI6ICIxMDAlIn0pOwoKICAgICAgICAKICAgICAgICAgICAgdmFyIGh0bWxfMjA3OWY2ZGNmNmQ0NGJiZjlmZjRkYTU3NDM3NWNmNWQgPSAkKGA8ZGl2IGlkPSJodG1sXzIwNzlmNmRjZjZkNDRiYmY5ZmY0ZGE1NzQzNzVjZjVkIiBzdHlsZT0id2lkdGg6IDEwMC4wJTsgaGVpZ2h0OiAxMDAuMCU7Ij5DZW50cmFsIEJheSBTdHJlZXQsIERvd250b3duIFRvcm9udG88L2Rpdj5gKVswXTsKICAgICAgICAgICAgcG9wdXBfOTM3NjFlNmE3MDI5NDQ0OTkwYjVmMWJlZWU2YzJhZjMuc2V0Q29udGVudChodG1sXzIwNzlmNmRjZjZkNDRiYmY5ZmY0ZGE1NzQzNzVjZjVkKTsKICAgICAgICAKCiAgICAgICAgY2lyY2xlX21hcmtlcl81MWFjYzY1YzE3MmY0MmVmYmY2ZGUxMGQ3ZmEzZWZhMS5iaW5kUG9wdXAocG9wdXBfOTM3NjFlNmE3MDI5NDQ0OTkwYjVmMWJlZWU2YzJhZjMpCiAgICAgICAgOwoKICAgICAgICAKICAgIAogICAgCiAgICAgICAgICAgIHZhciBjaXJjbGVfbWFya2VyXzA2MmY0ZjA5MmU0MjQ2YzU4ZDU2NThlY2UxMjAzMWYxID0gTC5jaXJjbGVNYXJrZXIoCiAgICAgICAgICAgICAgICBbNDMuNjY5NTQyLCAtNzkuNDIyNTYzN10sCiAgICAgICAgICAgICAgICB7ImJ1YmJsaW5nTW91c2VFdmVudHMiOiB0cnVlLCAiY29sb3IiOiAiYmx1ZSIsICJkYXNoQXJyYXkiOiBudWxsLCAiZGFzaE9mZnNldCI6IG51bGwsICJmaWxsIjogdHJ1ZSwgImZpbGxDb2xvciI6ICIjMzE4NmNjIiwgImZpbGxPcGFjaXR5IjogMC43LCAiZmlsbFJ1bGUiOiAiZXZlbm9kZCIsICJsaW5lQ2FwIjogInJvdW5kIiwgImxpbmVKb2luIjogInJvdW5kIiwgIm9wYWNpdHkiOiAxLjAsICJyYWRpdXMiOiA1LCAic3Ryb2tlIjogdHJ1ZSwgIndlaWdodCI6IDN9CiAgICAgICAgICAgICkuYWRkVG8obWFwXzM4Mjg4NTcxZTYxODQwMGNiOWUzYmQ1Mzc2MzQ4YmE3KTsKICAgICAgICAKICAgIAogICAgICAgIHZhciBwb3B1cF80Y2I0N2VkYTI5NDc0YTlkYmMyZWFmYjRmOGZiOWNmZiA9IEwucG9wdXAoeyJtYXhXaWR0aCI6ICIxMDAlIn0pOwoKICAgICAgICAKICAgICAgICAgICAgdmFyIGh0bWxfNjY1NzBiMjFmMTNmNGFhOWFmZTRkMzYxZTU0OTk5NmIgPSAkKGA8ZGl2IGlkPSJodG1sXzY2NTcwYjIxZjEzZjRhYTlhZmU0ZDM2MWU1NDk5OTZiIiBzdHlsZT0id2lkdGg6IDEwMC4wJTsgaGVpZ2h0OiAxMDAuMCU7Ij5DaHJpc3RpZSwgRG93bnRvd24gVG9yb250bzwvZGl2PmApWzBdOwogICAgICAgICAgICBwb3B1cF80Y2I0N2VkYTI5NDc0YTlkYmMyZWFmYjRmOGZiOWNmZi5zZXRDb250ZW50KGh0bWxfNjY1NzBiMjFmMTNmNGFhOWFmZTRkMzYxZTU0OTk5NmIpOwogICAgICAgIAoKICAgICAgICBjaXJjbGVfbWFya2VyXzA2MmY0ZjA5MmU0MjQ2YzU4ZDU2NThlY2UxMjAzMWYxLmJpbmRQb3B1cChwb3B1cF80Y2I0N2VkYTI5NDc0YTlkYmMyZWFmYjRmOGZiOWNmZikKICAgICAgICA7CgogICAgICAgIAogICAgCiAgICAKICAgICAgICAgICAgdmFyIGNpcmNsZV9tYXJrZXJfYzdhODVjZDkwMzM5NDdjMGEzOGNlMjA3NjE1NTdlODYgPSBMLmNpcmNsZU1hcmtlcigKICAgICAgICAgICAgICAgIFs0My42NTA1NzEyMDAwMDAwMSwgLTc5LjM4NDU2NzVdLAogICAgICAgICAgICAgICAgeyJidWJibGluZ01vdXNlRXZlbnRzIjogdHJ1ZSwgImNvbG9yIjogImJsdWUiLCAiZGFzaEFycmF5IjogbnVsbCwgImRhc2hPZmZzZXQiOiBudWxsLCAiZmlsbCI6IHRydWUsICJmaWxsQ29sb3IiOiAiIzMxODZjYyIsICJmaWxsT3BhY2l0eSI6IDAuNywgImZpbGxSdWxlIjogImV2ZW5vZGQiLCAibGluZUNhcCI6ICJyb3VuZCIsICJsaW5lSm9pbiI6ICJyb3VuZCIsICJvcGFjaXR5IjogMS4wLCAicmFkaXVzIjogNSwgInN0cm9rZSI6IHRydWUsICJ3ZWlnaHQiOiAzfQogICAgICAgICAgICApLmFkZFRvKG1hcF8zODI4ODU3MWU2MTg0MDBjYjllM2JkNTM3NjM0OGJhNyk7CiAgICAgICAgCiAgICAKICAgICAgICB2YXIgcG9wdXBfYmY3NWY5YjAwYjk4NGU3OTk3MWZiM2JkYzU5M2MxNjkgPSBMLnBvcHVwKHsibWF4V2lkdGgiOiAiMTAwJSJ9KTsKCiAgICAgICAgCiAgICAgICAgICAgIHZhciBodG1sX2RjNjcwYTM1YmVhMjQxYzc4MGE2YWNkZTZiNmVhYmFlID0gJChgPGRpdiBpZD0iaHRtbF9kYzY3MGEzNWJlYTI0MWM3ODBhNmFjZGU2YjZlYWJhZSIgc3R5bGU9IndpZHRoOiAxMDAuMCU7IGhlaWdodDogMTAwLjAlOyI+UmljaG1vbmQsIEFkZWxhaWRlLCBLaW5nLCBEb3dudG93biBUb3JvbnRvPC9kaXY+YClbMF07CiAgICAgICAgICAgIHBvcHVwX2JmNzVmOWIwMGI5ODRlNzk5NzFmYjNiZGM1OTNjMTY5LnNldENvbnRlbnQoaHRtbF9kYzY3MGEzNWJlYTI0MWM3ODBhNmFjZGU2YjZlYWJhZSk7CiAgICAgICAgCgogICAgICAgIGNpcmNsZV9tYXJrZXJfYzdhODVjZDkwMzM5NDdjMGEzOGNlMjA3NjE1NTdlODYuYmluZFBvcHVwKHBvcHVwX2JmNzVmOWIwMGI5ODRlNzk5NzFmYjNiZGM1OTNjMTY5KQogICAgICAgIDsKCiAgICAgICAgCiAgICAKICAgIAogICAgICAgICAgICB2YXIgY2lyY2xlX21hcmtlcl8zYTVlMDk2YzI4MTk0OGFkYjBjNmNmZjQ1ZGNmZTQ5ZiA9IEwuY2lyY2xlTWFya2VyKAogICAgICAgICAgICAgICAgWzQzLjY2OTAwNTEwMDAwMDAxLCAtNzkuNDQyMjU5M10sCiAgICAgICAgICAgICAgICB7ImJ1YmJsaW5nTW91c2VFdmVudHMiOiB0cnVlLCAiY29sb3IiOiAiYmx1ZSIsICJkYXNoQXJyYXkiOiBudWxsLCAiZGFzaE9mZnNldCI6IG51bGwsICJmaWxsIjogdHJ1ZSwgImZpbGxDb2xvciI6ICIjMzE4NmNjIiwgImZpbGxPcGFjaXR5IjogMC43LCAiZmlsbFJ1bGUiOiAiZXZlbm9kZCIsICJsaW5lQ2FwIjogInJvdW5kIiwgImxpbmVKb2luIjogInJvdW5kIiwgIm9wYWNpdHkiOiAxLjAsICJyYWRpdXMiOiA1LCAic3Ryb2tlIjogdHJ1ZSwgIndlaWdodCI6IDN9CiAgICAgICAgICAgICkuYWRkVG8obWFwXzM4Mjg4NTcxZTYxODQwMGNiOWUzYmQ1Mzc2MzQ4YmE3KTsKICAgICAgICAKICAgIAogICAgICAgIHZhciBwb3B1cF9mYjIyOWVmNTNjZmI0Y2NiOTVjYWY3OTY1MDhkNTU0YiA9IEwucG9wdXAoeyJtYXhXaWR0aCI6ICIxMDAlIn0pOwoKICAgICAgICAKICAgICAgICAgICAgdmFyIGh0bWxfMmIzOWY5MzY2MjBiNDRjZTkwNGY3NDQ3MzJlM2VkMmMgPSAkKGA8ZGl2IGlkPSJodG1sXzJiMzlmOTM2NjIwYjQ0Y2U5MDRmNzQ0NzMyZTNlZDJjIiBzdHlsZT0id2lkdGg6IDEwMC4wJTsgaGVpZ2h0OiAxMDAuMCU7Ij5EdWZmZXJpbiwgRG92ZXJjb3VydCBWaWxsYWdlLCBXZXN0IFRvcm9udG88L2Rpdj5gKVswXTsKICAgICAgICAgICAgcG9wdXBfZmIyMjllZjUzY2ZiNGNjYjk1Y2FmNzk2NTA4ZDU1NGIuc2V0Q29udGVudChodG1sXzJiMzlmOTM2NjIwYjQ0Y2U5MDRmNzQ0NzMyZTNlZDJjKTsKICAgICAgICAKCiAgICAgICAgY2lyY2xlX21hcmtlcl8zYTVlMDk2YzI4MTk0OGFkYjBjNmNmZjQ1ZGNmZTQ5Zi5iaW5kUG9wdXAocG9wdXBfZmIyMjllZjUzY2ZiNGNjYjk1Y2FmNzk2NTA4ZDU1NGIpCiAgICAgICAgOwoKICAgICAgICAKICAgIAogICAgCiAgICAgICAgICAgIHZhciBjaXJjbGVfbWFya2VyX2M2OGUyOThkNjM4ODQwMzY5OGY3NDkzZTk5ZWY3MzVhID0gTC5jaXJjbGVNYXJrZXIoCiAgICAgICAgICAgICAgICBbNDMuNjQwODE1NywgLTc5LjM4MTc1MjI5OTk5OTk5XSwKICAgICAgICAgICAgICAgIHsiYnViYmxpbmdNb3VzZUV2ZW50cyI6IHRydWUsICJjb2xvciI6ICJibHVlIiwgImRhc2hBcnJheSI6IG51bGwsICJkYXNoT2Zmc2V0IjogbnVsbCwgImZpbGwiOiB0cnVlLCAiZmlsbENvbG9yIjogIiMzMTg2Y2MiLCAiZmlsbE9wYWNpdHkiOiAwLjcsICJmaWxsUnVsZSI6ICJldmVub2RkIiwgImxpbmVDYXAiOiAicm91bmQiLCAibGluZUpvaW4iOiAicm91bmQiLCAib3BhY2l0eSI6IDEuMCwgInJhZGl1cyI6IDUsICJzdHJva2UiOiB0cnVlLCAid2VpZ2h0IjogM30KICAgICAgICAgICAgKS5hZGRUbyhtYXBfMzgyODg1NzFlNjE4NDAwY2I5ZTNiZDUzNzYzNDhiYTcpOwogICAgICAgIAogICAgCiAgICAgICAgdmFyIHBvcHVwXzQ1MjdmOGFiMzU2NDQ1YmI5YzY5MDViZjBjNWQwZTYyID0gTC5wb3B1cCh7Im1heFdpZHRoIjogIjEwMCUifSk7CgogICAgICAgIAogICAgICAgICAgICB2YXIgaHRtbF83NTM4NDU0ZWM2MzE0YjcyOWVlZjcwMzY0YzJjOGE1OSA9ICQoYDxkaXYgaWQ9Imh0bWxfNzUzODQ1NGVjNjMxNGI3MjllZWY3MDM2NGMyYzhhNTkiIHN0eWxlPSJ3aWR0aDogMTAwLjAlOyBoZWlnaHQ6IDEwMC4wJTsiPkhhcmJvdXJmcm9udCBFYXN0LCBVbmlvbiBTdGF0aW9uLCBUb3JvbnRvIElzbGFuZHMsIERvd250b3duIFRvcm9udG88L2Rpdj5gKVswXTsKICAgICAgICAgICAgcG9wdXBfNDUyN2Y4YWIzNTY0NDViYjljNjkwNWJmMGM1ZDBlNjIuc2V0Q29udGVudChodG1sXzc1Mzg0NTRlYzYzMTRiNzI5ZWVmNzAzNjRjMmM4YTU5KTsKICAgICAgICAKCiAgICAgICAgY2lyY2xlX21hcmtlcl9jNjhlMjk4ZDYzODg0MDM2OThmNzQ5M2U5OWVmNzM1YS5iaW5kUG9wdXAocG9wdXBfNDUyN2Y4YWIzNTY0NDViYjljNjkwNWJmMGM1ZDBlNjIpCiAgICAgICAgOwoKICAgICAgICAKICAgIAogICAgCiAgICAgICAgICAgIHZhciBjaXJjbGVfbWFya2VyX2UzNjY2YTA3MTE2MTRjNjQ4NzkzM2E1NmQ1MDIwOTQwID0gTC5jaXJjbGVNYXJrZXIoCiAgICAgICAgICAgICAgICBbNDMuNjQ3OTI2NzAwMDAwMDA2LCAtNzkuNDE5NzQ5N10sCiAgICAgICAgICAgICAgICB7ImJ1YmJsaW5nTW91c2VFdmVudHMiOiB0cnVlLCAiY29sb3IiOiAiYmx1ZSIsICJkYXNoQXJyYXkiOiBudWxsLCAiZGFzaE9mZnNldCI6IG51bGwsICJmaWxsIjogdHJ1ZSwgImZpbGxDb2xvciI6ICIjMzE4NmNjIiwgImZpbGxPcGFjaXR5IjogMC43LCAiZmlsbFJ1bGUiOiAiZXZlbm9kZCIsICJsaW5lQ2FwIjogInJvdW5kIiwgImxpbmVKb2luIjogInJvdW5kIiwgIm9wYWNpdHkiOiAxLjAsICJyYWRpdXMiOiA1LCAic3Ryb2tlIjogdHJ1ZSwgIndlaWdodCI6IDN9CiAgICAgICAgICAgICkuYWRkVG8obWFwXzM4Mjg4NTcxZTYxODQwMGNiOWUzYmQ1Mzc2MzQ4YmE3KTsKICAgICAgICAKICAgIAogICAgICAgIHZhciBwb3B1cF8yOGM3MjZkMzEwYzU0YTk1YWY3NzlmOTcwMDhhNWJmYyA9IEwucG9wdXAoeyJtYXhXaWR0aCI6ICIxMDAlIn0pOwoKICAgICAgICAKICAgICAgICAgICAgdmFyIGh0bWxfMzUxNjc5OWUwMDRhNDVkNmFhYjgwOTQ4MjdlYWEwODEgPSAkKGA8ZGl2IGlkPSJodG1sXzM1MTY3OTllMDA0YTQ1ZDZhYWI4MDk0ODI3ZWFhMDgxIiBzdHlsZT0id2lkdGg6IDEwMC4wJTsgaGVpZ2h0OiAxMDAuMCU7Ij5MaXR0bGUgUG9ydHVnYWwsIFRyaW5pdHksIFdlc3QgVG9yb250bzwvZGl2PmApWzBdOwogICAgICAgICAgICBwb3B1cF8yOGM3MjZkMzEwYzU0YTk1YWY3NzlmOTcwMDhhNWJmYy5zZXRDb250ZW50KGh0bWxfMzUxNjc5OWUwMDRhNDVkNmFhYjgwOTQ4MjdlYWEwODEpOwogICAgICAgIAoKICAgICAgICBjaXJjbGVfbWFya2VyX2UzNjY2YTA3MTE2MTRjNjQ4NzkzM2E1NmQ1MDIwOTQwLmJpbmRQb3B1cChwb3B1cF8yOGM3MjZkMzEwYzU0YTk1YWY3NzlmOTcwMDhhNWJmYykKICAgICAgICA7CgogICAgICAgIAogICAgCiAgICAKICAgICAgICAgICAgdmFyIGNpcmNsZV9tYXJrZXJfNzVlODU3MDNiMzhmNDI5MWIyZTJjN2YyNmYxNWE1YjkgPSBMLmNpcmNsZU1hcmtlcigKICAgICAgICAgICAgICAgIFs0My42Nzk1NTcxLCAtNzkuMzUyMTg4XSwKICAgICAgICAgICAgICAgIHsiYnViYmxpbmdNb3VzZUV2ZW50cyI6IHRydWUsICJjb2xvciI6ICJibHVlIiwgImRhc2hBcnJheSI6IG51bGwsICJkYXNoT2Zmc2V0IjogbnVsbCwgImZpbGwiOiB0cnVlLCAiZmlsbENvbG9yIjogIiMzMTg2Y2MiLCAiZmlsbE9wYWNpdHkiOiAwLjcsICJmaWxsUnVsZSI6ICJldmVub2RkIiwgImxpbmVDYXAiOiAicm91bmQiLCAibGluZUpvaW4iOiAicm91bmQiLCAib3BhY2l0eSI6IDEuMCwgInJhZGl1cyI6IDUsICJzdHJva2UiOiB0cnVlLCAid2VpZ2h0IjogM30KICAgICAgICAgICAgKS5hZGRUbyhtYXBfMzgyODg1NzFlNjE4NDAwY2I5ZTNiZDUzNzYzNDhiYTcpOwogICAgICAgIAogICAgCiAgICAgICAgdmFyIHBvcHVwX2IzOGJkZTI4ZDNjNjRmZmNhOTQwMWIxYjg1ZWFiNzZjID0gTC5wb3B1cCh7Im1heFdpZHRoIjogIjEwMCUifSk7CgogICAgICAgIAogICAgICAgICAgICB2YXIgaHRtbF82NmQ5ODI3YTA5YjQ0YTdhOGJmNGVhNWY4YjI5M2VmMiA9ICQoYDxkaXYgaWQ9Imh0bWxfNjZkOTgyN2EwOWI0NGE3YThiZjRlYTVmOGIyOTNlZjIiIHN0eWxlPSJ3aWR0aDogMTAwLjAlOyBoZWlnaHQ6IDEwMC4wJTsiPlRoZSBEYW5mb3J0aCBXZXN0LCBSaXZlcmRhbGUsIEVhc3QgVG9yb250bzwvZGl2PmApWzBdOwogICAgICAgICAgICBwb3B1cF9iMzhiZGUyOGQzYzY0ZmZjYTk0MDFiMWI4NWVhYjc2Yy5zZXRDb250ZW50KGh0bWxfNjZkOTgyN2EwOWI0NGE3YThiZjRlYTVmOGIyOTNlZjIpOwogICAgICAgIAoKICAgICAgICBjaXJjbGVfbWFya2VyXzc1ZTg1NzAzYjM4ZjQyOTFiMmUyYzdmMjZmMTVhNWI5LmJpbmRQb3B1cChwb3B1cF9iMzhiZGUyOGQzYzY0ZmZjYTk0MDFiMWI4NWVhYjc2YykKICAgICAgICA7CgogICAgICAgIAogICAgCiAgICAKICAgICAgICAgICAgdmFyIGNpcmNsZV9tYXJrZXJfZjljZTc3ZDIxODBkNDczMzk1MmI4MzY5ZGQzNzA4MDAgPSBMLmNpcmNsZU1hcmtlcigKICAgICAgICAgICAgICAgIFs0My42NDcxNzY4LCAtNzkuMzgxNTc2NDAwMDAwMDFdLAogICAgICAgICAgICAgICAgeyJidWJibGluZ01vdXNlRXZlbnRzIjogdHJ1ZSwgImNvbG9yIjogImJsdWUiLCAiZGFzaEFycmF5IjogbnVsbCwgImRhc2hPZmZzZXQiOiBudWxsLCAiZmlsbCI6IHRydWUsICJmaWxsQ29sb3IiOiAiIzMxODZjYyIsICJmaWxsT3BhY2l0eSI6IDAuNywgImZpbGxSdWxlIjogImV2ZW5vZGQiLCAibGluZUNhcCI6ICJyb3VuZCIsICJsaW5lSm9pbiI6ICJyb3VuZCIsICJvcGFjaXR5IjogMS4wLCAicmFkaXVzIjogNSwgInN0cm9rZSI6IHRydWUsICJ3ZWlnaHQiOiAzfQogICAgICAgICAgICApLmFkZFRvKG1hcF8zODI4ODU3MWU2MTg0MDBjYjllM2JkNTM3NjM0OGJhNyk7CiAgICAgICAgCiAgICAKICAgICAgICB2YXIgcG9wdXBfNTBiMWRiNjIzNjk0NDZlMDk3ODk0MjEyZmUxNGU4MmMgPSBMLnBvcHVwKHsibWF4V2lkdGgiOiAiMTAwJSJ9KTsKCiAgICAgICAgCiAgICAgICAgICAgIHZhciBodG1sXzhmZWZhYmQwNGMxZjRlZjdiNDJmMjc2OTQ0MjM1OTM5ID0gJChgPGRpdiBpZD0iaHRtbF84ZmVmYWJkMDRjMWY0ZWY3YjQyZjI3Njk0NDIzNTkzOSIgc3R5bGU9IndpZHRoOiAxMDAuMCU7IGhlaWdodDogMTAwLjAlOyI+VG9yb250byBEb21pbmlvbiBDZW50cmUsIERlc2lnbiBFeGNoYW5nZSwgRG93bnRvd24gVG9yb250bzwvZGl2PmApWzBdOwogICAgICAgICAgICBwb3B1cF81MGIxZGI2MjM2OTQ0NmUwOTc4OTQyMTJmZTE0ZTgyYy5zZXRDb250ZW50KGh0bWxfOGZlZmFiZDA0YzFmNGVmN2I0MmYyNzY5NDQyMzU5MzkpOwogICAgICAgIAoKICAgICAgICBjaXJjbGVfbWFya2VyX2Y5Y2U3N2QyMTgwZDQ3MzM5NTJiODM2OWRkMzcwODAwLmJpbmRQb3B1cChwb3B1cF81MGIxZGI2MjM2OTQ0NmUwOTc4OTQyMTJmZTE0ZTgyYykKICAgICAgICA7CgogICAgICAgIAogICAgCiAgICAKICAgICAgICAgICAgdmFyIGNpcmNsZV9tYXJrZXJfNDM5YTUxYmFlZjlmNDVlODhlOWQ5NjlkNzQ2M2YyZWMgPSBMLmNpcmNsZU1hcmtlcigKICAgICAgICAgICAgICAgIFs0My42MzY4NDcyLCAtNzkuNDI4MTkxNDAwMDAwMDJdLAogICAgICAgICAgICAgICAgeyJidWJibGluZ01vdXNlRXZlbnRzIjogdHJ1ZSwgImNvbG9yIjogImJsdWUiLCAiZGFzaEFycmF5IjogbnVsbCwgImRhc2hPZmZzZXQiOiBudWxsLCAiZmlsbCI6IHRydWUsICJmaWxsQ29sb3IiOiAiIzMxODZjYyIsICJmaWxsT3BhY2l0eSI6IDAuNywgImZpbGxSdWxlIjogImV2ZW5vZGQiLCAibGluZUNhcCI6ICJyb3VuZCIsICJsaW5lSm9pbiI6ICJyb3VuZCIsICJvcGFjaXR5IjogMS4wLCAicmFkaXVzIjogNSwgInN0cm9rZSI6IHRydWUsICJ3ZWlnaHQiOiAzfQogICAgICAgICAgICApLmFkZFRvKG1hcF8zODI4ODU3MWU2MTg0MDBjYjllM2JkNTM3NjM0OGJhNyk7CiAgICAgICAgCiAgICAKICAgICAgICB2YXIgcG9wdXBfNzg0NTFkNWM5MWQ0NDY1OGFmYTIxYjYwZmQ1MmJlYWQgPSBMLnBvcHVwKHsibWF4V2lkdGgiOiAiMTAwJSJ9KTsKCiAgICAgICAgCiAgICAgICAgICAgIHZhciBodG1sX2RjOTdmNDdlNzlkYzRkZDJiNjU5OWRkODU2MjE2MTdlID0gJChgPGRpdiBpZD0iaHRtbF9kYzk3ZjQ3ZTc5ZGM0ZGQyYjY1OTlkZDg1NjIxNjE3ZSIgc3R5bGU9IndpZHRoOiAxMDAuMCU7IGhlaWdodDogMTAwLjAlOyI+QnJvY2t0b24sIFBhcmtkYWxlIFZpbGxhZ2UsIEV4aGliaXRpb24gUGxhY2UsIFdlc3QgVG9yb250bzwvZGl2PmApWzBdOwogICAgICAgICAgICBwb3B1cF83ODQ1MWQ1YzkxZDQ0NjU4YWZhMjFiNjBmZDUyYmVhZC5zZXRDb250ZW50KGh0bWxfZGM5N2Y0N2U3OWRjNGRkMmI2NTk5ZGQ4NTYyMTYxN2UpOwogICAgICAgIAoKICAgICAgICBjaXJjbGVfbWFya2VyXzQzOWE1MWJhZWY5ZjQ1ZTg4ZTlkOTY5ZDc0NjNmMmVjLmJpbmRQb3B1cChwb3B1cF83ODQ1MWQ1YzkxZDQ0NjU4YWZhMjFiNjBmZDUyYmVhZCkKICAgICAgICA7CgogICAgICAgIAogICAgCiAgICAKICAgICAgICAgICAgdmFyIGNpcmNsZV9tYXJrZXJfZDAzZThkOTlkN2ZlNDM0ZGI4MDQxNmI0NzcyNDEzNTUgPSBMLmNpcmNsZU1hcmtlcigKICAgICAgICAgICAgICAgIFs0My42Njg5OTg1LCAtNzkuMzE1NTcxNTk5OTk5OThdLAogICAgICAgICAgICAgICAgeyJidWJibGluZ01vdXNlRXZlbnRzIjogdHJ1ZSwgImNvbG9yIjogImJsdWUiLCAiZGFzaEFycmF5IjogbnVsbCwgImRhc2hPZmZzZXQiOiBudWxsLCAiZmlsbCI6IHRydWUsICJmaWxsQ29sb3IiOiAiIzMxODZjYyIsICJmaWxsT3BhY2l0eSI6IDAuNywgImZpbGxSdWxlIjogImV2ZW5vZGQiLCAibGluZUNhcCI6ICJyb3VuZCIsICJsaW5lSm9pbiI6ICJyb3VuZCIsICJvcGFjaXR5IjogMS4wLCAicmFkaXVzIjogNSwgInN0cm9rZSI6IHRydWUsICJ3ZWlnaHQiOiAzfQogICAgICAgICAgICApLmFkZFRvKG1hcF8zODI4ODU3MWU2MTg0MDBjYjllM2JkNTM3NjM0OGJhNyk7CiAgICAgICAgCiAgICAKICAgICAgICB2YXIgcG9wdXBfNDI3OTIxMzI3OWM2NDUwYTkwMTI4ODZkNjUzM2ZlNTQgPSBMLnBvcHVwKHsibWF4V2lkdGgiOiAiMTAwJSJ9KTsKCiAgICAgICAgCiAgICAgICAgICAgIHZhciBodG1sX2M5YWJkMTlhZmM0YTRiMmM4Mjc0YTgyZGE5ZTYwMmI4ID0gJChgPGRpdiBpZD0iaHRtbF9jOWFiZDE5YWZjNGE0YjJjODI3NGE4MmRhOWU2MDJiOCIgc3R5bGU9IndpZHRoOiAxMDAuMCU7IGhlaWdodDogMTAwLjAlOyI+SW5kaWEgQmF6YWFyLCBUaGUgQmVhY2hlcyBXZXN0LCBFYXN0IFRvcm9udG88L2Rpdj5gKVswXTsKICAgICAgICAgICAgcG9wdXBfNDI3OTIxMzI3OWM2NDUwYTkwMTI4ODZkNjUzM2ZlNTQuc2V0Q29udGVudChodG1sX2M5YWJkMTlhZmM0YTRiMmM4Mjc0YTgyZGE5ZTYwMmI4KTsKICAgICAgICAKCiAgICAgICAgY2lyY2xlX21hcmtlcl9kMDNlOGQ5OWQ3ZmU0MzRkYjgwNDE2YjQ3NzI0MTM1NS5iaW5kUG9wdXAocG9wdXBfNDI3OTIxMzI3OWM2NDUwYTkwMTI4ODZkNjUzM2ZlNTQpCiAgICAgICAgOwoKICAgICAgICAKICAgIAogICAgCiAgICAgICAgICAgIHZhciBjaXJjbGVfbWFya2VyX2JkZmI4YzMwMmMyYzQ0Y2FhMWM3ZTJkMDA0N2NhNjA0ID0gTC5jaXJjbGVNYXJrZXIoCiAgICAgICAgICAgICAgICBbNDMuNjQ4MTk4NSwgLTc5LjM3OTgxNjkwMDAwMDAxXSwKICAgICAgICAgICAgICAgIHsiYnViYmxpbmdNb3VzZUV2ZW50cyI6IHRydWUsICJjb2xvciI6ICJibHVlIiwgImRhc2hBcnJheSI6IG51bGwsICJkYXNoT2Zmc2V0IjogbnVsbCwgImZpbGwiOiB0cnVlLCAiZmlsbENvbG9yIjogIiMzMTg2Y2MiLCAiZmlsbE9wYWNpdHkiOiAwLjcsICJmaWxsUnVsZSI6ICJldmVub2RkIiwgImxpbmVDYXAiOiAicm91bmQiLCAibGluZUpvaW4iOiAicm91bmQiLCAib3BhY2l0eSI6IDEuMCwgInJhZGl1cyI6IDUsICJzdHJva2UiOiB0cnVlLCAid2VpZ2h0IjogM30KICAgICAgICAgICAgKS5hZGRUbyhtYXBfMzgyODg1NzFlNjE4NDAwY2I5ZTNiZDUzNzYzNDhiYTcpOwogICAgICAgIAogICAgCiAgICAgICAgdmFyIHBvcHVwXzA1YTJkYTFjNTNhNjRmZjc4ZDBiZTkwYmYwM2RjMjAzID0gTC5wb3B1cCh7Im1heFdpZHRoIjogIjEwMCUifSk7CgogICAgICAgIAogICAgICAgICAgICB2YXIgaHRtbF9mNGU0YWI0MDM4Njk0ZWQyYjAxNTBjZmRlZmYzNzY4OCA9ICQoYDxkaXYgaWQ9Imh0bWxfZjRlNGFiNDAzODY5NGVkMmIwMTUwY2ZkZWZmMzc2ODgiIHN0eWxlPSJ3aWR0aDogMTAwLjAlOyBoZWlnaHQ6IDEwMC4wJTsiPkNvbW1lcmNlIENvdXJ0LCBWaWN0b3JpYSBIb3RlbCwgRG93bnRvd24gVG9yb250bzwvZGl2PmApWzBdOwogICAgICAgICAgICBwb3B1cF8wNWEyZGExYzUzYTY0ZmY3OGQwYmU5MGJmMDNkYzIwMy5zZXRDb250ZW50KGh0bWxfZjRlNGFiNDAzODY5NGVkMmIwMTUwY2ZkZWZmMzc2ODgpOwogICAgICAgIAoKICAgICAgICBjaXJjbGVfbWFya2VyX2JkZmI4YzMwMmMyYzQ0Y2FhMWM3ZTJkMDA0N2NhNjA0LmJpbmRQb3B1cChwb3B1cF8wNWEyZGExYzUzYTY0ZmY3OGQwYmU5MGJmMDNkYzIwMykKICAgICAgICA7CgogICAgICAgIAogICAgCiAgICAKICAgICAgICAgICAgdmFyIGNpcmNsZV9tYXJrZXJfN2MzOWYxODc5OWE3NDU5ZjhmYTUwNzU0ZTMyMmNkODkgPSBMLmNpcmNsZU1hcmtlcigKICAgICAgICAgICAgICAgIFs0My42NTk1MjU1LCAtNzkuMzQwOTIzXSwKICAgICAgICAgICAgICAgIHsiYnViYmxpbmdNb3VzZUV2ZW50cyI6IHRydWUsICJjb2xvciI6ICJibHVlIiwgImRhc2hBcnJheSI6IG51bGwsICJkYXNoT2Zmc2V0IjogbnVsbCwgImZpbGwiOiB0cnVlLCAiZmlsbENvbG9yIjogIiMzMTg2Y2MiLCAiZmlsbE9wYWNpdHkiOiAwLjcsICJmaWxsUnVsZSI6ICJldmVub2RkIiwgImxpbmVDYXAiOiAicm91bmQiLCAibGluZUpvaW4iOiAicm91bmQiLCAib3BhY2l0eSI6IDEuMCwgInJhZGl1cyI6IDUsICJzdHJva2UiOiB0cnVlLCAid2VpZ2h0IjogM30KICAgICAgICAgICAgKS5hZGRUbyhtYXBfMzgyODg1NzFlNjE4NDAwY2I5ZTNiZDUzNzYzNDhiYTcpOwogICAgICAgIAogICAgCiAgICAgICAgdmFyIHBvcHVwXzY1NmExMzdmOTA0NzQ4NjFiMjYxNDI5YjJjMjJkMmEzID0gTC5wb3B1cCh7Im1heFdpZHRoIjogIjEwMCUifSk7CgogICAgICAgIAogICAgICAgICAgICB2YXIgaHRtbF9kNzRmMWJmMzY3Y2E0YjUxOWI5ODYzMTE3NGY4YWE0ZCA9ICQoYDxkaXYgaWQ9Imh0bWxfZDc0ZjFiZjM2N2NhNGI1MTliOTg2MzExNzRmOGFhNGQiIHN0eWxlPSJ3aWR0aDogMTAwLjAlOyBoZWlnaHQ6IDEwMC4wJTsiPlN0dWRpbyBEaXN0cmljdCwgRWFzdCBUb3JvbnRvPC9kaXY+YClbMF07CiAgICAgICAgICAgIHBvcHVwXzY1NmExMzdmOTA0NzQ4NjFiMjYxNDI5YjJjMjJkMmEzLnNldENvbnRlbnQoaHRtbF9kNzRmMWJmMzY3Y2E0YjUxOWI5ODYzMTE3NGY4YWE0ZCk7CiAgICAgICAgCgogICAgICAgIGNpcmNsZV9tYXJrZXJfN2MzOWYxODc5OWE3NDU5ZjhmYTUwNzU0ZTMyMmNkODkuYmluZFBvcHVwKHBvcHVwXzY1NmExMzdmOTA0NzQ4NjFiMjYxNDI5YjJjMjJkMmEzKQogICAgICAgIDsKCiAgICAgICAgCiAgICAKICAgIAogICAgICAgICAgICB2YXIgY2lyY2xlX21hcmtlcl9hZmJhMDA4YTIxOWY0NjI4OWQ2ZmQxM2U4MDI2MzVmNiA9IEwuY2lyY2xlTWFya2VyKAogICAgICAgICAgICAgICAgWzQzLjcyODAyMDUsIC03OS4zODg3OTAxXSwKICAgICAgICAgICAgICAgIHsiYnViYmxpbmdNb3VzZUV2ZW50cyI6IHRydWUsICJjb2xvciI6ICJibHVlIiwgImRhc2hBcnJheSI6IG51bGwsICJkYXNoT2Zmc2V0IjogbnVsbCwgImZpbGwiOiB0cnVlLCAiZmlsbENvbG9yIjogIiMzMTg2Y2MiLCAiZmlsbE9wYWNpdHkiOiAwLjcsICJmaWxsUnVsZSI6ICJldmVub2RkIiwgImxpbmVDYXAiOiAicm91bmQiLCAibGluZUpvaW4iOiAicm91bmQiLCAib3BhY2l0eSI6IDEuMCwgInJhZGl1cyI6IDUsICJzdHJva2UiOiB0cnVlLCAid2VpZ2h0IjogM30KICAgICAgICAgICAgKS5hZGRUbyhtYXBfMzgyODg1NzFlNjE4NDAwY2I5ZTNiZDUzNzYzNDhiYTcpOwogICAgICAgIAogICAgCiAgICAgICAgdmFyIHBvcHVwXzNlYzhjYjYwYWFlNDQyNDBhMmI1YWYwOWFhMzRlNGEzID0gTC5wb3B1cCh7Im1heFdpZHRoIjogIjEwMCUifSk7CgogICAgICAgIAogICAgICAgICAgICB2YXIgaHRtbF9iN2Q5YjI1ZjZiMzU0OGY0YjVkYjljNWZmYzEzNDcxYyA9ICQoYDxkaXYgaWQ9Imh0bWxfYjdkOWIyNWY2YjM1NDhmNGI1ZGI5YzVmZmMxMzQ3MWMiIHN0eWxlPSJ3aWR0aDogMTAwLjAlOyBoZWlnaHQ6IDEwMC4wJTsiPkxhd3JlbmNlIFBhcmssIENlbnRyYWwgVG9yb250bzwvZGl2PmApWzBdOwogICAgICAgICAgICBwb3B1cF8zZWM4Y2I2MGFhZTQ0MjQwYTJiNWFmMDlhYTM0ZTRhMy5zZXRDb250ZW50KGh0bWxfYjdkOWIyNWY2YjM1NDhmNGI1ZGI5YzVmZmMxMzQ3MWMpOwogICAgICAgIAoKICAgICAgICBjaXJjbGVfbWFya2VyX2FmYmEwMDhhMjE5ZjQ2Mjg5ZDZmZDEzZTgwMjYzNWY2LmJpbmRQb3B1cChwb3B1cF8zZWM4Y2I2MGFhZTQ0MjQwYTJiNWFmMDlhYTM0ZTRhMykKICAgICAgICA7CgogICAgICAgIAogICAgCiAgICAKICAgICAgICAgICAgdmFyIGNpcmNsZV9tYXJrZXJfYTVmZjY3ZDYyYjM4NGU3MzliMWNjZWI5YmVhNmY1OWYgPSBMLmNpcmNsZU1hcmtlcigKICAgICAgICAgICAgICAgIFs0My43MTE2OTQ4LCAtNzkuNDE2OTM1NTk5OTk5OTldLAogICAgICAgICAgICAgICAgeyJidWJibGluZ01vdXNlRXZlbnRzIjogdHJ1ZSwgImNvbG9yIjogImJsdWUiLCAiZGFzaEFycmF5IjogbnVsbCwgImRhc2hPZmZzZXQiOiBudWxsLCAiZmlsbCI6IHRydWUsICJmaWxsQ29sb3IiOiAiIzMxODZjYyIsICJmaWxsT3BhY2l0eSI6IDAuNywgImZpbGxSdWxlIjogImV2ZW5vZGQiLCAibGluZUNhcCI6ICJyb3VuZCIsICJsaW5lSm9pbiI6ICJyb3VuZCIsICJvcGFjaXR5IjogMS4wLCAicmFkaXVzIjogNSwgInN0cm9rZSI6IHRydWUsICJ3ZWlnaHQiOiAzfQogICAgICAgICAgICApLmFkZFRvKG1hcF8zODI4ODU3MWU2MTg0MDBjYjllM2JkNTM3NjM0OGJhNyk7CiAgICAgICAgCiAgICAKICAgICAgICB2YXIgcG9wdXBfNjFlZjY0ZjM1ZGMzNGJjYjk3MDFmZmNlNGYyYTY5YTUgPSBMLnBvcHVwKHsibWF4V2lkdGgiOiAiMTAwJSJ9KTsKCiAgICAgICAgCiAgICAgICAgICAgIHZhciBodG1sX2NlNWYxNzJkY2Y1MTQ4YWU4MjI1NzI1ZmJlZDM0NmU2ID0gJChgPGRpdiBpZD0iaHRtbF9jZTVmMTcyZGNmNTE0OGFlODIyNTcyNWZiZWQzNDZlNiIgc3R5bGU9IndpZHRoOiAxMDAuMCU7IGhlaWdodDogMTAwLjAlOyI+Um9zZWxhd24sIENlbnRyYWwgVG9yb250bzwvZGl2PmApWzBdOwogICAgICAgICAgICBwb3B1cF82MWVmNjRmMzVkYzM0YmNiOTcwMWZmY2U0ZjJhNjlhNS5zZXRDb250ZW50KGh0bWxfY2U1ZjE3MmRjZjUxNDhhZTgyMjU3MjVmYmVkMzQ2ZTYpOwogICAgICAgIAoKICAgICAgICBjaXJjbGVfbWFya2VyX2E1ZmY2N2Q2MmIzODRlNzM5YjFjY2ViOWJlYTZmNTlmLmJpbmRQb3B1cChwb3B1cF82MWVmNjRmMzVkYzM0YmNiOTcwMWZmY2U0ZjJhNjlhNSkKICAgICAgICA7CgogICAgICAgIAogICAgCiAgICAKICAgICAgICAgICAgdmFyIGNpcmNsZV9tYXJrZXJfMjJhZjRjZTdmNTQ2NDg3MzgyMjNlNThkZTQwYjY2MGYgPSBMLmNpcmNsZU1hcmtlcigKICAgICAgICAgICAgICAgIFs0My43MTI3NTExLCAtNzkuMzkwMTk3NV0sCiAgICAgICAgICAgICAgICB7ImJ1YmJsaW5nTW91c2VFdmVudHMiOiB0cnVlLCAiY29sb3IiOiAiYmx1ZSIsICJkYXNoQXJyYXkiOiBudWxsLCAiZGFzaE9mZnNldCI6IG51bGwsICJmaWxsIjogdHJ1ZSwgImZpbGxDb2xvciI6ICIjMzE4NmNjIiwgImZpbGxPcGFjaXR5IjogMC43LCAiZmlsbFJ1bGUiOiAiZXZlbm9kZCIsICJsaW5lQ2FwIjogInJvdW5kIiwgImxpbmVKb2luIjogInJvdW5kIiwgIm9wYWNpdHkiOiAxLjAsICJyYWRpdXMiOiA1LCAic3Ryb2tlIjogdHJ1ZSwgIndlaWdodCI6IDN9CiAgICAgICAgICAgICkuYWRkVG8obWFwXzM4Mjg4NTcxZTYxODQwMGNiOWUzYmQ1Mzc2MzQ4YmE3KTsKICAgICAgICAKICAgIAogICAgICAgIHZhciBwb3B1cF83MTNiOWYzNTAyZDA0OGI4ODVjYTBjYWI2ZTkzMzA3ZCA9IEwucG9wdXAoeyJtYXhXaWR0aCI6ICIxMDAlIn0pOwoKICAgICAgICAKICAgICAgICAgICAgdmFyIGh0bWxfMTFhYTI5NDYzNTlmNGMyZWJjZWUzZjJkNDQyNzAzYmYgPSAkKGA8ZGl2IGlkPSJodG1sXzExYWEyOTQ2MzU5ZjRjMmViY2VlM2YyZDQ0MjcwM2JmIiBzdHlsZT0id2lkdGg6IDEwMC4wJTsgaGVpZ2h0OiAxMDAuMCU7Ij5EYXZpc3ZpbGxlIE5vcnRoLCBDZW50cmFsIFRvcm9udG88L2Rpdj5gKVswXTsKICAgICAgICAgICAgcG9wdXBfNzEzYjlmMzUwMmQwNDhiODg1Y2EwY2FiNmU5MzMwN2Quc2V0Q29udGVudChodG1sXzExYWEyOTQ2MzU5ZjRjMmViY2VlM2YyZDQ0MjcwM2JmKTsKICAgICAgICAKCiAgICAgICAgY2lyY2xlX21hcmtlcl8yMmFmNGNlN2Y1NDY0ODczODIyM2U1OGRlNDBiNjYwZi5iaW5kUG9wdXAocG9wdXBfNzEzYjlmMzUwMmQwNDhiODg1Y2EwY2FiNmU5MzMwN2QpCiAgICAgICAgOwoKICAgICAgICAKICAgIAogICAgCiAgICAgICAgICAgIHZhciBjaXJjbGVfbWFya2VyX2M0Yzc2ODNhMDA3OTQwMzQ5YzM5ODJiOGNmMTk5ZmNiID0gTC5jaXJjbGVNYXJrZXIoCiAgICAgICAgICAgICAgICBbNDMuNjk2OTQ3NiwgLTc5LjQxMTMwNzIwMDAwMDAxXSwKICAgICAgICAgICAgICAgIHsiYnViYmxpbmdNb3VzZUV2ZW50cyI6IHRydWUsICJjb2xvciI6ICJibHVlIiwgImRhc2hBcnJheSI6IG51bGwsICJkYXNoT2Zmc2V0IjogbnVsbCwgImZpbGwiOiB0cnVlLCAiZmlsbENvbG9yIjogIiMzMTg2Y2MiLCAiZmlsbE9wYWNpdHkiOiAwLjcsICJmaWxsUnVsZSI6ICJldmVub2RkIiwgImxpbmVDYXAiOiAicm91bmQiLCAibGluZUpvaW4iOiAicm91bmQiLCAib3BhY2l0eSI6IDEuMCwgInJhZGl1cyI6IDUsICJzdHJva2UiOiB0cnVlLCAid2VpZ2h0IjogM30KICAgICAgICAgICAgKS5hZGRUbyhtYXBfMzgyODg1NzFlNjE4NDAwY2I5ZTNiZDUzNzYzNDhiYTcpOwogICAgICAgIAogICAgCiAgICAgICAgdmFyIHBvcHVwX2M3MmJlYjNlNjYzNTQ5ZjViM2U4YzU3MmQxYzExNjUzID0gTC5wb3B1cCh7Im1heFdpZHRoIjogIjEwMCUifSk7CgogICAgICAgIAogICAgICAgICAgICB2YXIgaHRtbF81Y2EyZWEwYmRkY2Q0ZDZlYjJlM2Y4NDY4MzdiN2RiNyA9ICQoYDxkaXYgaWQ9Imh0bWxfNWNhMmVhMGJkZGNkNGQ2ZWIyZTNmODQ2ODM3YjdkYjciIHN0eWxlPSJ3aWR0aDogMTAwLjAlOyBoZWlnaHQ6IDEwMC4wJTsiPkZvcmVzdCBIaWxsIE5vcnRoICZhbXA7IFdlc3QsIEZvcmVzdCBIaWxsIFJvYWQgUGFyaywgQ2VudHJhbCBUb3JvbnRvPC9kaXY+YClbMF07CiAgICAgICAgICAgIHBvcHVwX2M3MmJlYjNlNjYzNTQ5ZjViM2U4YzU3MmQxYzExNjUzLnNldENvbnRlbnQoaHRtbF81Y2EyZWEwYmRkY2Q0ZDZlYjJlM2Y4NDY4MzdiN2RiNyk7CiAgICAgICAgCgogICAgICAgIGNpcmNsZV9tYXJrZXJfYzRjNzY4M2EwMDc5NDAzNDljMzk4MmI4Y2YxOTlmY2IuYmluZFBvcHVwKHBvcHVwX2M3MmJlYjNlNjYzNTQ5ZjViM2U4YzU3MmQxYzExNjUzKQogICAgICAgIDsKCiAgICAgICAgCiAgICAKICAgIAogICAgICAgICAgICB2YXIgY2lyY2xlX21hcmtlcl8zNDUyNGU4Y2ZlNDE0NWFkOWE4YmNlNTVkMzZjODQ2MyA9IEwuY2lyY2xlTWFya2VyKAogICAgICAgICAgICAgICAgWzQzLjY2MTYwODMsIC03OS40NjQ3NjMyOTk5OTk5OV0sCiAgICAgICAgICAgICAgICB7ImJ1YmJsaW5nTW91c2VFdmVudHMiOiB0cnVlLCAiY29sb3IiOiAiYmx1ZSIsICJkYXNoQXJyYXkiOiBudWxsLCAiZGFzaE9mZnNldCI6IG51bGwsICJmaWxsIjogdHJ1ZSwgImZpbGxDb2xvciI6ICIjMzE4NmNjIiwgImZpbGxPcGFjaXR5IjogMC43LCAiZmlsbFJ1bGUiOiAiZXZlbm9kZCIsICJsaW5lQ2FwIjogInJvdW5kIiwgImxpbmVKb2luIjogInJvdW5kIiwgIm9wYWNpdHkiOiAxLjAsICJyYWRpdXMiOiA1LCAic3Ryb2tlIjogdHJ1ZSwgIndlaWdodCI6IDN9CiAgICAgICAgICAgICkuYWRkVG8obWFwXzM4Mjg4NTcxZTYxODQwMGNiOWUzYmQ1Mzc2MzQ4YmE3KTsKICAgICAgICAKICAgIAogICAgICAgIHZhciBwb3B1cF9hMDllNzJjODUzYzc0ZmYyOWFhZGY2MTE5NzI3NzFkYSA9IEwucG9wdXAoeyJtYXhXaWR0aCI6ICIxMDAlIn0pOwoKICAgICAgICAKICAgICAgICAgICAgdmFyIGh0bWxfZmZkNjE1N2M5NTUyNDY0MWJhODdmZTE4OWExNjZhNzMgPSAkKGA8ZGl2IGlkPSJodG1sX2ZmZDYxNTdjOTU1MjQ2NDFiYTg3ZmUxODlhMTY2YTczIiBzdHlsZT0id2lkdGg6IDEwMC4wJTsgaGVpZ2h0OiAxMDAuMCU7Ij5IaWdoIFBhcmssIFRoZSBKdW5jdGlvbiBTb3V0aCwgV2VzdCBUb3JvbnRvPC9kaXY+YClbMF07CiAgICAgICAgICAgIHBvcHVwX2EwOWU3MmM4NTNjNzRmZjI5YWFkZjYxMTk3Mjc3MWRhLnNldENvbnRlbnQoaHRtbF9mZmQ2MTU3Yzk1NTI0NjQxYmE4N2ZlMTg5YTE2NmE3Myk7CiAgICAgICAgCgogICAgICAgIGNpcmNsZV9tYXJrZXJfMzQ1MjRlOGNmZTQxNDVhZDlhOGJjZTU1ZDM2Yzg0NjMuYmluZFBvcHVwKHBvcHVwX2EwOWU3MmM4NTNjNzRmZjI5YWFkZjYxMTk3Mjc3MWRhKQogICAgICAgIDsKCiAgICAgICAgCiAgICAKICAgIAogICAgICAgICAgICB2YXIgY2lyY2xlX21hcmtlcl9lM2I2NTM2ZDYwNjc0MDNmYWRlYTk3MDdmNTczYzI4NSA9IEwuY2lyY2xlTWFya2VyKAogICAgICAgICAgICAgICAgWzQzLjcxNTM4MzQsIC03OS40MDU2Nzg0MDAwMDAwMV0sCiAgICAgICAgICAgICAgICB7ImJ1YmJsaW5nTW91c2VFdmVudHMiOiB0cnVlLCAiY29sb3IiOiAiYmx1ZSIsICJkYXNoQXJyYXkiOiBudWxsLCAiZGFzaE9mZnNldCI6IG51bGwsICJmaWxsIjogdHJ1ZSwgImZpbGxDb2xvciI6ICIjMzE4NmNjIiwgImZpbGxPcGFjaXR5IjogMC43LCAiZmlsbFJ1bGUiOiAiZXZlbm9kZCIsICJsaW5lQ2FwIjogInJvdW5kIiwgImxpbmVKb2luIjogInJvdW5kIiwgIm9wYWNpdHkiOiAxLjAsICJyYWRpdXMiOiA1LCAic3Ryb2tlIjogdHJ1ZSwgIndlaWdodCI6IDN9CiAgICAgICAgICAgICkuYWRkVG8obWFwXzM4Mjg4NTcxZTYxODQwMGNiOWUzYmQ1Mzc2MzQ4YmE3KTsKICAgICAgICAKICAgIAogICAgICAgIHZhciBwb3B1cF85NWNhYjhiOTAxYzk0NDc2OGFmYTI2ZWJkMDkwZWQyZSA9IEwucG9wdXAoeyJtYXhXaWR0aCI6ICIxMDAlIn0pOwoKICAgICAgICAKICAgICAgICAgICAgdmFyIGh0bWxfODQzYjg5ZTU1Nzg0NDI1ZmExYzVkYzViMzBkYjQ0Y2MgPSAkKGA8ZGl2IGlkPSJodG1sXzg0M2I4OWU1NTc4NDQyNWZhMWM1ZGM1YjMwZGI0NGNjIiBzdHlsZT0id2lkdGg6IDEwMC4wJTsgaGVpZ2h0OiAxMDAuMCU7Ij5Ob3J0aCBUb3JvbnRvIFdlc3QsIExhd3JlbmNlIFBhcmssIENlbnRyYWwgVG9yb250bzwvZGl2PmApWzBdOwogICAgICAgICAgICBwb3B1cF85NWNhYjhiOTAxYzk0NDc2OGFmYTI2ZWJkMDkwZWQyZS5zZXRDb250ZW50KGh0bWxfODQzYjg5ZTU1Nzg0NDI1ZmExYzVkYzViMzBkYjQ0Y2MpOwogICAgICAgIAoKICAgICAgICBjaXJjbGVfbWFya2VyX2UzYjY1MzZkNjA2NzQwM2ZhZGVhOTcwN2Y1NzNjMjg1LmJpbmRQb3B1cChwb3B1cF85NWNhYjhiOTAxYzk0NDc2OGFmYTI2ZWJkMDkwZWQyZSkKICAgICAgICA7CgogICAgICAgIAogICAgCiAgICAKICAgICAgICAgICAgdmFyIGNpcmNsZV9tYXJrZXJfMTUwYWVlMGM0ZDg1NDllZjllZTExODIzOTQ2ODQ1NjggPSBMLmNpcmNsZU1hcmtlcigKICAgICAgICAgICAgICAgIFs0My42NzI3MDk3LCAtNzkuNDA1Njc4NDAwMDAwMDFdLAogICAgICAgICAgICAgICAgeyJidWJibGluZ01vdXNlRXZlbnRzIjogdHJ1ZSwgImNvbG9yIjogImJsdWUiLCAiZGFzaEFycmF5IjogbnVsbCwgImRhc2hPZmZzZXQiOiBudWxsLCAiZmlsbCI6IHRydWUsICJmaWxsQ29sb3IiOiAiIzMxODZjYyIsICJmaWxsT3BhY2l0eSI6IDAuNywgImZpbGxSdWxlIjogImV2ZW5vZGQiLCAibGluZUNhcCI6ICJyb3VuZCIsICJsaW5lSm9pbiI6ICJyb3VuZCIsICJvcGFjaXR5IjogMS4wLCAicmFkaXVzIjogNSwgInN0cm9rZSI6IHRydWUsICJ3ZWlnaHQiOiAzfQogICAgICAgICAgICApLmFkZFRvKG1hcF8zODI4ODU3MWU2MTg0MDBjYjllM2JkNTM3NjM0OGJhNyk7CiAgICAgICAgCiAgICAKICAgICAgICB2YXIgcG9wdXBfZGU2NGM3NDY5YjdhNDc0MWE5Njc3YWI0Y2Q3MmVhZjUgPSBMLnBvcHVwKHsibWF4V2lkdGgiOiAiMTAwJSJ9KTsKCiAgICAgICAgCiAgICAgICAgICAgIHZhciBodG1sX2NkNDRhMzNlMjU5ZTQzZTFhNTVhZjdjNDY0YmVlZGJmID0gJChgPGRpdiBpZD0iaHRtbF9jZDQ0YTMzZTI1OWU0M2UxYTU1YWY3YzQ2NGJlZWRiZiIgc3R5bGU9IndpZHRoOiAxMDAuMCU7IGhlaWdodDogMTAwLjAlOyI+VGhlIEFubmV4LCBOb3J0aCBNaWR0b3duLCBZb3JrdmlsbGUsIENlbnRyYWwgVG9yb250bzwvZGl2PmApWzBdOwogICAgICAgICAgICBwb3B1cF9kZTY0Yzc0NjliN2E0NzQxYTk2NzdhYjRjZDcyZWFmNS5zZXRDb250ZW50KGh0bWxfY2Q0NGEzM2UyNTllNDNlMWE1NWFmN2M0NjRiZWVkYmYpOwogICAgICAgIAoKICAgICAgICBjaXJjbGVfbWFya2VyXzE1MGFlZTBjNGQ4NTQ5ZWY5ZWUxMTgyMzk0Njg0NTY4LmJpbmRQb3B1cChwb3B1cF9kZTY0Yzc0NjliN2E0NzQxYTk2NzdhYjRjZDcyZWFmNSkKICAgICAgICA7CgogICAgICAgIAogICAgCiAgICAKICAgICAgICAgICAgdmFyIGNpcmNsZV9tYXJrZXJfYWQ3YTFiYWYwYjhiNGNjYThmOWJkODVmZmU1YWM3OTUgPSBMLmNpcmNsZU1hcmtlcigKICAgICAgICAgICAgICAgIFs0My42NDg5NTk3LCAtNzkuNDU2MzI1XSwKICAgICAgICAgICAgICAgIHsiYnViYmxpbmdNb3VzZUV2ZW50cyI6IHRydWUsICJjb2xvciI6ICJibHVlIiwgImRhc2hBcnJheSI6IG51bGwsICJkYXNoT2Zmc2V0IjogbnVsbCwgImZpbGwiOiB0cnVlLCAiZmlsbENvbG9yIjogIiMzMTg2Y2MiLCAiZmlsbE9wYWNpdHkiOiAwLjcsICJmaWxsUnVsZSI6ICJldmVub2RkIiwgImxpbmVDYXAiOiAicm91bmQiLCAibGluZUpvaW4iOiAicm91bmQiLCAib3BhY2l0eSI6IDEuMCwgInJhZGl1cyI6IDUsICJzdHJva2UiOiB0cnVlLCAid2VpZ2h0IjogM30KICAgICAgICAgICAgKS5hZGRUbyhtYXBfMzgyODg1NzFlNjE4NDAwY2I5ZTNiZDUzNzYzNDhiYTcpOwogICAgICAgIAogICAgCiAgICAgICAgdmFyIHBvcHVwXzk3NzA2ODZiYjRjYjRjZWNiYjEzMDZlNjFlMTdkMTk3ID0gTC5wb3B1cCh7Im1heFdpZHRoIjogIjEwMCUifSk7CgogICAgICAgIAogICAgICAgICAgICB2YXIgaHRtbF84NjJkOTI4MGFmNDk0YjI1YWY1OWEwMTcxMzk0YjE5MiA9ICQoYDxkaXYgaWQ9Imh0bWxfODYyZDkyODBhZjQ5NGIyNWFmNTlhMDE3MTM5NGIxOTIiIHN0eWxlPSJ3aWR0aDogMTAwLjAlOyBoZWlnaHQ6IDEwMC4wJTsiPlBhcmtkYWxlLCBSb25jZXN2YWxsZXMsIFdlc3QgVG9yb250bzwvZGl2PmApWzBdOwogICAgICAgICAgICBwb3B1cF85NzcwNjg2YmI0Y2I0Y2VjYmIxMzA2ZTYxZTE3ZDE5Ny5zZXRDb250ZW50KGh0bWxfODYyZDkyODBhZjQ5NGIyNWFmNTlhMDE3MTM5NGIxOTIpOwogICAgICAgIAoKICAgICAgICBjaXJjbGVfbWFya2VyX2FkN2ExYmFmMGI4YjRjY2E4ZjliZDg1ZmZlNWFjNzk1LmJpbmRQb3B1cChwb3B1cF85NzcwNjg2YmI0Y2I0Y2VjYmIxMzA2ZTYxZTE3ZDE5NykKICAgICAgICA7CgogICAgICAgIAogICAgCiAgICAKICAgICAgICAgICAgdmFyIGNpcmNsZV9tYXJrZXJfOWM2MGJjNTA0MTZlNGRlYWE2MDU2MGEwZjRkYzRhYjYgPSBMLmNpcmNsZU1hcmtlcigKICAgICAgICAgICAgICAgIFs0My43MDQzMjQ0LCAtNzkuMzg4NzkwMV0sCiAgICAgICAgICAgICAgICB7ImJ1YmJsaW5nTW91c2VFdmVudHMiOiB0cnVlLCAiY29sb3IiOiAiYmx1ZSIsICJkYXNoQXJyYXkiOiBudWxsLCAiZGFzaE9mZnNldCI6IG51bGwsICJmaWxsIjogdHJ1ZSwgImZpbGxDb2xvciI6ICIjMzE4NmNjIiwgImZpbGxPcGFjaXR5IjogMC43LCAiZmlsbFJ1bGUiOiAiZXZlbm9kZCIsICJsaW5lQ2FwIjogInJvdW5kIiwgImxpbmVKb2luIjogInJvdW5kIiwgIm9wYWNpdHkiOiAxLjAsICJyYWRpdXMiOiA1LCAic3Ryb2tlIjogdHJ1ZSwgIndlaWdodCI6IDN9CiAgICAgICAgICAgICkuYWRkVG8obWFwXzM4Mjg4NTcxZTYxODQwMGNiOWUzYmQ1Mzc2MzQ4YmE3KTsKICAgICAgICAKICAgIAogICAgICAgIHZhciBwb3B1cF9jMDQ5MmRkZjYyMjU0N2FhODUxZjEzOWZlZWY5Y2NlMiA9IEwucG9wdXAoeyJtYXhXaWR0aCI6ICIxMDAlIn0pOwoKICAgICAgICAKICAgICAgICAgICAgdmFyIGh0bWxfNThhNzU0OTMxYWYxNDMyMzk5Yzc3M2FmN2MxMmFhNGQgPSAkKGA8ZGl2IGlkPSJodG1sXzU4YTc1NDkzMWFmMTQzMjM5OWM3NzNhZjdjMTJhYTRkIiBzdHlsZT0id2lkdGg6IDEwMC4wJTsgaGVpZ2h0OiAxMDAuMCU7Ij5EYXZpc3ZpbGxlLCBDZW50cmFsIFRvcm9udG88L2Rpdj5gKVswXTsKICAgICAgICAgICAgcG9wdXBfYzA0OTJkZGY2MjI1NDdhYTg1MWYxMzlmZWVmOWNjZTIuc2V0Q29udGVudChodG1sXzU4YTc1NDkzMWFmMTQzMjM5OWM3NzNhZjdjMTJhYTRkKTsKICAgICAgICAKCiAgICAgICAgY2lyY2xlX21hcmtlcl85YzYwYmM1MDQxNmU0ZGVhYTYwNTYwYTBmNGRjNGFiNi5iaW5kUG9wdXAocG9wdXBfYzA0OTJkZGY2MjI1NDdhYTg1MWYxMzlmZWVmOWNjZTIpCiAgICAgICAgOwoKICAgICAgICAKICAgIAogICAgCiAgICAgICAgICAgIHZhciBjaXJjbGVfbWFya2VyXzBiZTM3MDgzMGQ1NzRiMzdiOWI5ZTVkZmY2ZTRkOGU1ID0gTC5jaXJjbGVNYXJrZXIoCiAgICAgICAgICAgICAgICBbNDMuNjYyNjk1NiwgLTc5LjQwMDA0OTNdLAogICAgICAgICAgICAgICAgeyJidWJibGluZ01vdXNlRXZlbnRzIjogdHJ1ZSwgImNvbG9yIjogImJsdWUiLCAiZGFzaEFycmF5IjogbnVsbCwgImRhc2hPZmZzZXQiOiBudWxsLCAiZmlsbCI6IHRydWUsICJmaWxsQ29sb3IiOiAiIzMxODZjYyIsICJmaWxsT3BhY2l0eSI6IDAuNywgImZpbGxSdWxlIjogImV2ZW5vZGQiLCAibGluZUNhcCI6ICJyb3VuZCIsICJsaW5lSm9pbiI6ICJyb3VuZCIsICJvcGFjaXR5IjogMS4wLCAicmFkaXVzIjogNSwgInN0cm9rZSI6IHRydWUsICJ3ZWlnaHQiOiAzfQogICAgICAgICAgICApLmFkZFRvKG1hcF8zODI4ODU3MWU2MTg0MDBjYjllM2JkNTM3NjM0OGJhNyk7CiAgICAgICAgCiAgICAKICAgICAgICB2YXIgcG9wdXBfNmJjNGJmODM1YTNjNDRkN2JmOTc0OTE5NjY4MTk1NWMgPSBMLnBvcHVwKHsibWF4V2lkdGgiOiAiMTAwJSJ9KTsKCiAgICAgICAgCiAgICAgICAgICAgIHZhciBodG1sXzk5NTBkYWRkYjNjYzRhN2E4OTUzM2I4YmUwYTY5OWU3ID0gJChgPGRpdiBpZD0iaHRtbF85OTUwZGFkZGIzY2M0YTdhODk1MzNiOGJlMGE2OTllNyIgc3R5bGU9IndpZHRoOiAxMDAuMCU7IGhlaWdodDogMTAwLjAlOyI+VW5pdmVyc2l0eSBvZiBUb3JvbnRvLCBIYXJib3JkLCBEb3dudG93biBUb3JvbnRvPC9kaXY+YClbMF07CiAgICAgICAgICAgIHBvcHVwXzZiYzRiZjgzNWEzYzQ0ZDdiZjk3NDkxOTY2ODE5NTVjLnNldENvbnRlbnQoaHRtbF85OTUwZGFkZGIzY2M0YTdhODk1MzNiOGJlMGE2OTllNyk7CiAgICAgICAgCgogICAgICAgIGNpcmNsZV9tYXJrZXJfMGJlMzcwODMwZDU3NGIzN2I5YjllNWRmZjZlNGQ4ZTUuYmluZFBvcHVwKHBvcHVwXzZiYzRiZjgzNWEzYzQ0ZDdiZjk3NDkxOTY2ODE5NTVjKQogICAgICAgIDsKCiAgICAgICAgCiAgICAKICAgIAogICAgICAgICAgICB2YXIgY2lyY2xlX21hcmtlcl8zZTE3N2VkMjgwNmU0YzEyOGM0MTVlMzFjYWUzOGMwNSA9IEwuY2lyY2xlTWFya2VyKAogICAgICAgICAgICAgICAgWzQzLjY1MTU3MDYsIC03OS40ODQ0NDk5XSwKICAgICAgICAgICAgICAgIHsiYnViYmxpbmdNb3VzZUV2ZW50cyI6IHRydWUsICJjb2xvciI6ICJibHVlIiwgImRhc2hBcnJheSI6IG51bGwsICJkYXNoT2Zmc2V0IjogbnVsbCwgImZpbGwiOiB0cnVlLCAiZmlsbENvbG9yIjogIiMzMTg2Y2MiLCAiZmlsbE9wYWNpdHkiOiAwLjcsICJmaWxsUnVsZSI6ICJldmVub2RkIiwgImxpbmVDYXAiOiAicm91bmQiLCAibGluZUpvaW4iOiAicm91bmQiLCAib3BhY2l0eSI6IDEuMCwgInJhZGl1cyI6IDUsICJzdHJva2UiOiB0cnVlLCAid2VpZ2h0IjogM30KICAgICAgICAgICAgKS5hZGRUbyhtYXBfMzgyODg1NzFlNjE4NDAwY2I5ZTNiZDUzNzYzNDhiYTcpOwogICAgICAgIAogICAgCiAgICAgICAgdmFyIHBvcHVwXzQ3ZmMzNDMxZThlZDQyZDA4YTZkODk2MzA2NzY4NGZiID0gTC5wb3B1cCh7Im1heFdpZHRoIjogIjEwMCUifSk7CgogICAgICAgIAogICAgICAgICAgICB2YXIgaHRtbF80ZGU2NzUyMGEyNTA0M2FlYTIzMjA3MWY3YTgyMzBhMCA9ICQoYDxkaXYgaWQ9Imh0bWxfNGRlNjc1MjBhMjUwNDNhZWEyMzIwNzFmN2E4MjMwYTAiIHN0eWxlPSJ3aWR0aDogMTAwLjAlOyBoZWlnaHQ6IDEwMC4wJTsiPlJ1bm55bWVkZSwgU3dhbnNlYSwgV2VzdCBUb3JvbnRvPC9kaXY+YClbMF07CiAgICAgICAgICAgIHBvcHVwXzQ3ZmMzNDMxZThlZDQyZDA4YTZkODk2MzA2NzY4NGZiLnNldENvbnRlbnQoaHRtbF80ZGU2NzUyMGEyNTA0M2FlYTIzMjA3MWY3YTgyMzBhMCk7CiAgICAgICAgCgogICAgICAgIGNpcmNsZV9tYXJrZXJfM2UxNzdlZDI4MDZlNGMxMjhjNDE1ZTMxY2FlMzhjMDUuYmluZFBvcHVwKHBvcHVwXzQ3ZmMzNDMxZThlZDQyZDA4YTZkODk2MzA2NzY4NGZiKQogICAgICAgIDsKCiAgICAgICAgCiAgICAKICAgIAogICAgICAgICAgICB2YXIgY2lyY2xlX21hcmtlcl8yMzFlMWI1MWY3NDk0NjQ2OWYyZjQ1ZDlmMGQ1ZWM3ZSA9IEwuY2lyY2xlTWFya2VyKAogICAgICAgICAgICAgICAgWzQzLjY4OTU3NDMsIC03OS4zODMxNTk5MDAwMDAwMV0sCiAgICAgICAgICAgICAgICB7ImJ1YmJsaW5nTW91c2VFdmVudHMiOiB0cnVlLCAiY29sb3IiOiAiYmx1ZSIsICJkYXNoQXJyYXkiOiBudWxsLCAiZGFzaE9mZnNldCI6IG51bGwsICJmaWxsIjogdHJ1ZSwgImZpbGxDb2xvciI6ICIjMzE4NmNjIiwgImZpbGxPcGFjaXR5IjogMC43LCAiZmlsbFJ1bGUiOiAiZXZlbm9kZCIsICJsaW5lQ2FwIjogInJvdW5kIiwgImxpbmVKb2luIjogInJvdW5kIiwgIm9wYWNpdHkiOiAxLjAsICJyYWRpdXMiOiA1LCAic3Ryb2tlIjogdHJ1ZSwgIndlaWdodCI6IDN9CiAgICAgICAgICAgICkuYWRkVG8obWFwXzM4Mjg4NTcxZTYxODQwMGNiOWUzYmQ1Mzc2MzQ4YmE3KTsKICAgICAgICAKICAgIAogICAgICAgIHZhciBwb3B1cF85MjA1MmJhZjM3MmE0NzkwODFjOGUwOWExMzFiOGM3MSA9IEwucG9wdXAoeyJtYXhXaWR0aCI6ICIxMDAlIn0pOwoKICAgICAgICAKICAgICAgICAgICAgdmFyIGh0bWxfNzNjMGRjY2QwM2UwNDU4ZDgzZTFjMTBkMTUzNmUyNGMgPSAkKGA8ZGl2IGlkPSJodG1sXzczYzBkY2NkMDNlMDQ1OGQ4M2UxYzEwZDE1MzZlMjRjIiBzdHlsZT0id2lkdGg6IDEwMC4wJTsgaGVpZ2h0OiAxMDAuMCU7Ij5Nb29yZSBQYXJrLCBTdW1tZXJoaWxsIEVhc3QsIENlbnRyYWwgVG9yb250bzwvZGl2PmApWzBdOwogICAgICAgICAgICBwb3B1cF85MjA1MmJhZjM3MmE0NzkwODFjOGUwOWExMzFiOGM3MS5zZXRDb250ZW50KGh0bWxfNzNjMGRjY2QwM2UwNDU4ZDgzZTFjMTBkMTUzNmUyNGMpOwogICAgICAgIAoKICAgICAgICBjaXJjbGVfbWFya2VyXzIzMWUxYjUxZjc0OTQ2NDY5ZjJmNDVkOWYwZDVlYzdlLmJpbmRQb3B1cChwb3B1cF85MjA1MmJhZjM3MmE0NzkwODFjOGUwOWExMzFiOGM3MSkKICAgICAgICA7CgogICAgICAgIAogICAgCiAgICAKICAgICAgICAgICAgdmFyIGNpcmNsZV9tYXJrZXJfOGE1NjYyZWZmNzFmNDUyY2I1ZTMwZmE3ODU4ZDYwMzkgPSBMLmNpcmNsZU1hcmtlcigKICAgICAgICAgICAgICAgIFs0My42NTMyMDU3LCAtNzkuNDAwMDQ5M10sCiAgICAgICAgICAgICAgICB7ImJ1YmJsaW5nTW91c2VFdmVudHMiOiB0cnVlLCAiY29sb3IiOiAiYmx1ZSIsICJkYXNoQXJyYXkiOiBudWxsLCAiZGFzaE9mZnNldCI6IG51bGwsICJmaWxsIjogdHJ1ZSwgImZpbGxDb2xvciI6ICIjMzE4NmNjIiwgImZpbGxPcGFjaXR5IjogMC43LCAiZmlsbFJ1bGUiOiAiZXZlbm9kZCIsICJsaW5lQ2FwIjogInJvdW5kIiwgImxpbmVKb2luIjogInJvdW5kIiwgIm9wYWNpdHkiOiAxLjAsICJyYWRpdXMiOiA1LCAic3Ryb2tlIjogdHJ1ZSwgIndlaWdodCI6IDN9CiAgICAgICAgICAgICkuYWRkVG8obWFwXzM4Mjg4NTcxZTYxODQwMGNiOWUzYmQ1Mzc2MzQ4YmE3KTsKICAgICAgICAKICAgIAogICAgICAgIHZhciBwb3B1cF8wODU4Yjc3MzFjMWU0Mzc2OTFmZDJlNDE1NWNmMjNmNCA9IEwucG9wdXAoeyJtYXhXaWR0aCI6ICIxMDAlIn0pOwoKICAgICAgICAKICAgICAgICAgICAgdmFyIGh0bWxfYWY3NDJhY2NmYjkxNDkyMzhjNDhmN2Y5ZGI0M2JlMDMgPSAkKGA8ZGl2IGlkPSJodG1sX2FmNzQyYWNjZmI5MTQ5MjM4YzQ4ZjdmOWRiNDNiZTAzIiBzdHlsZT0id2lkdGg6IDEwMC4wJTsgaGVpZ2h0OiAxMDAuMCU7Ij5LZW5zaW5ndG9uIE1hcmtldCwgQ2hpbmF0b3duLCBHcmFuZ2UgUGFyaywgRG93bnRvd24gVG9yb250bzwvZGl2PmApWzBdOwogICAgICAgICAgICBwb3B1cF8wODU4Yjc3MzFjMWU0Mzc2OTFmZDJlNDE1NWNmMjNmNC5zZXRDb250ZW50KGh0bWxfYWY3NDJhY2NmYjkxNDkyMzhjNDhmN2Y5ZGI0M2JlMDMpOwogICAgICAgIAoKICAgICAgICBjaXJjbGVfbWFya2VyXzhhNTY2MmVmZjcxZjQ1MmNiNWUzMGZhNzg1OGQ2MDM5LmJpbmRQb3B1cChwb3B1cF8wODU4Yjc3MzFjMWU0Mzc2OTFmZDJlNDE1NWNmMjNmNCkKICAgICAgICA7CgogICAgICAgIAogICAgCiAgICAKICAgICAgICAgICAgdmFyIGNpcmNsZV9tYXJrZXJfZjA4MDBkNDU5NTljNDU2ODhiNzZmMmI2ODdiZDFmNzggPSBMLmNpcmNsZU1hcmtlcigKICAgICAgICAgICAgICAgIFs0My42ODY0MTIyOTk5OTk5OSwgLTc5LjQwMDA0OTNdLAogICAgICAgICAgICAgICAgeyJidWJibGluZ01vdXNlRXZlbnRzIjogdHJ1ZSwgImNvbG9yIjogImJsdWUiLCAiZGFzaEFycmF5IjogbnVsbCwgImRhc2hPZmZzZXQiOiBudWxsLCAiZmlsbCI6IHRydWUsICJmaWxsQ29sb3IiOiAiIzMxODZjYyIsICJmaWxsT3BhY2l0eSI6IDAuNywgImZpbGxSdWxlIjogImV2ZW5vZGQiLCAibGluZUNhcCI6ICJyb3VuZCIsICJsaW5lSm9pbiI6ICJyb3VuZCIsICJvcGFjaXR5IjogMS4wLCAicmFkaXVzIjogNSwgInN0cm9rZSI6IHRydWUsICJ3ZWlnaHQiOiAzfQogICAgICAgICAgICApLmFkZFRvKG1hcF8zODI4ODU3MWU2MTg0MDBjYjllM2JkNTM3NjM0OGJhNyk7CiAgICAgICAgCiAgICAKICAgICAgICB2YXIgcG9wdXBfMDkxYTA5ZDc5OTc2NGFjNjkzNmE0NDBiNmJiODY3MGUgPSBMLnBvcHVwKHsibWF4V2lkdGgiOiAiMTAwJSJ9KTsKCiAgICAgICAgCiAgICAgICAgICAgIHZhciBodG1sX2QxMDc2NjQ0OTI1ZTQwMmRhOWY3NDBlZWRmOTdlNzkwID0gJChgPGRpdiBpZD0iaHRtbF9kMTA3NjY0NDkyNWU0MDJkYTlmNzQwZWVkZjk3ZTc5MCIgc3R5bGU9IndpZHRoOiAxMDAuMCU7IGhlaWdodDogMTAwLjAlOyI+U3VtbWVyaGlsbCBXZXN0LCBSYXRobmVsbHksIFNvdXRoIEhpbGwsIEZvcmVzdCBIaWxsIFNFLCBEZWVyIFBhcmssIENlbnRyYWwgVG9yb250bzwvZGl2PmApWzBdOwogICAgICAgICAgICBwb3B1cF8wOTFhMDlkNzk5NzY0YWM2OTM2YTQ0MGI2YmI4NjcwZS5zZXRDb250ZW50KGh0bWxfZDEwNzY2NDQ5MjVlNDAyZGE5Zjc0MGVlZGY5N2U3OTApOwogICAgICAgIAoKICAgICAgICBjaXJjbGVfbWFya2VyX2YwODAwZDQ1OTU5YzQ1Njg4Yjc2ZjJiNjg3YmQxZjc4LmJpbmRQb3B1cChwb3B1cF8wOTFhMDlkNzk5NzY0YWM2OTM2YTQ0MGI2YmI4NjcwZSkKICAgICAgICA7CgogICAgICAgIAogICAgCiAgICAKICAgICAgICAgICAgdmFyIGNpcmNsZV9tYXJrZXJfOGQyZjI1MmFhY2ZhNGFkYWJmNTY0MjliZWJiZDE4Y2YgPSBMLmNpcmNsZU1hcmtlcigKICAgICAgICAgICAgICAgIFs0My42Mjg5NDY3LCAtNzkuMzk0NDE5OV0sCiAgICAgICAgICAgICAgICB7ImJ1YmJsaW5nTW91c2VFdmVudHMiOiB0cnVlLCAiY29sb3IiOiAiYmx1ZSIsICJkYXNoQXJyYXkiOiBudWxsLCAiZGFzaE9mZnNldCI6IG51bGwsICJmaWxsIjogdHJ1ZSwgImZpbGxDb2xvciI6ICIjMzE4NmNjIiwgImZpbGxPcGFjaXR5IjogMC43LCAiZmlsbFJ1bGUiOiAiZXZlbm9kZCIsICJsaW5lQ2FwIjogInJvdW5kIiwgImxpbmVKb2luIjogInJvdW5kIiwgIm9wYWNpdHkiOiAxLjAsICJyYWRpdXMiOiA1LCAic3Ryb2tlIjogdHJ1ZSwgIndlaWdodCI6IDN9CiAgICAgICAgICAgICkuYWRkVG8obWFwXzM4Mjg4NTcxZTYxODQwMGNiOWUzYmQ1Mzc2MzQ4YmE3KTsKICAgICAgICAKICAgIAogICAgICAgIHZhciBwb3B1cF8zM2ZkYzEyMGI5MDU0MjA1YjMyMTkzNDk0MTVmMmY1NiA9IEwucG9wdXAoeyJtYXhXaWR0aCI6ICIxMDAlIn0pOwoKICAgICAgICAKICAgICAgICAgICAgdmFyIGh0bWxfYTZiNGIwMTFiNmY5NGUzOGFkZmM2Nzg4ZDBlNzkyOTYgPSAkKGA8ZGl2IGlkPSJodG1sX2E2YjRiMDExYjZmOTRlMzhhZGZjNjc4OGQwZTc5Mjk2IiBzdHlsZT0id2lkdGg6IDEwMC4wJTsgaGVpZ2h0OiAxMDAuMCU7Ij5DTiBUb3dlciwgS2luZyBhbmQgU3BhZGluYSwgUmFpbHdheSBMYW5kcywgSGFyYm91cmZyb250IFdlc3QsIEJhdGh1cnN0IFF1YXksIFNvdXRoIE5pYWdhcmEsIElzbGFuZCBhaXJwb3J0LCBEb3dudG93biBUb3JvbnRvPC9kaXY+YClbMF07CiAgICAgICAgICAgIHBvcHVwXzMzZmRjMTIwYjkwNTQyMDViMzIxOTM0OTQxNWYyZjU2LnNldENvbnRlbnQoaHRtbF9hNmI0YjAxMWI2Zjk0ZTM4YWRmYzY3ODhkMGU3OTI5Nik7CiAgICAgICAgCgogICAgICAgIGNpcmNsZV9tYXJrZXJfOGQyZjI1MmFhY2ZhNGFkYWJmNTY0MjliZWJiZDE4Y2YuYmluZFBvcHVwKHBvcHVwXzMzZmRjMTIwYjkwNTQyMDViMzIxOTM0OTQxNWYyZjU2KQogICAgICAgIDsKCiAgICAgICAgCiAgICAKICAgIAogICAgICAgICAgICB2YXIgY2lyY2xlX21hcmtlcl8xNzIzOWJmNWJhMmQ0NGQxYTAxZDI4ODRlY2RlYzNjOCA9IEwuY2lyY2xlTWFya2VyKAogICAgICAgICAgICAgICAgWzQzLjY3OTU2MjYsIC03OS4zNzc1Mjk0MDAwMDAwMV0sCiAgICAgICAgICAgICAgICB7ImJ1YmJsaW5nTW91c2VFdmVudHMiOiB0cnVlLCAiY29sb3IiOiAiYmx1ZSIsICJkYXNoQXJyYXkiOiBudWxsLCAiZGFzaE9mZnNldCI6IG51bGwsICJmaWxsIjogdHJ1ZSwgImZpbGxDb2xvciI6ICIjMzE4NmNjIiwgImZpbGxPcGFjaXR5IjogMC43LCAiZmlsbFJ1bGUiOiAiZXZlbm9kZCIsICJsaW5lQ2FwIjogInJvdW5kIiwgImxpbmVKb2luIjogInJvdW5kIiwgIm9wYWNpdHkiOiAxLjAsICJyYWRpdXMiOiA1LCAic3Ryb2tlIjogdHJ1ZSwgIndlaWdodCI6IDN9CiAgICAgICAgICAgICkuYWRkVG8obWFwXzM4Mjg4NTcxZTYxODQwMGNiOWUzYmQ1Mzc2MzQ4YmE3KTsKICAgICAgICAKICAgIAogICAgICAgIHZhciBwb3B1cF81ZDVmYTUyNTViMjk0NmQwODc4M2YxNTdmNWZkZGY3ZCA9IEwucG9wdXAoeyJtYXhXaWR0aCI6ICIxMDAlIn0pOwoKICAgICAgICAKICAgICAgICAgICAgdmFyIGh0bWxfMzlhMzBiYWEzZDk5NGFkN2IwOWUxZjIxZWNiNmQ3ZTMgPSAkKGA8ZGl2IGlkPSJodG1sXzM5YTMwYmFhM2Q5OTRhZDdiMDllMWYyMWVjYjZkN2UzIiBzdHlsZT0id2lkdGg6IDEwMC4wJTsgaGVpZ2h0OiAxMDAuMCU7Ij5Sb3NlZGFsZSwgRG93bnRvd24gVG9yb250bzwvZGl2PmApWzBdOwogICAgICAgICAgICBwb3B1cF81ZDVmYTUyNTViMjk0NmQwODc4M2YxNTdmNWZkZGY3ZC5zZXRDb250ZW50KGh0bWxfMzlhMzBiYWEzZDk5NGFkN2IwOWUxZjIxZWNiNmQ3ZTMpOwogICAgICAgIAoKICAgICAgICBjaXJjbGVfbWFya2VyXzE3MjM5YmY1YmEyZDQ0ZDFhMDFkMjg4NGVjZGVjM2M4LmJpbmRQb3B1cChwb3B1cF81ZDVmYTUyNTViMjk0NmQwODc4M2YxNTdmNWZkZGY3ZCkKICAgICAgICA7CgogICAgICAgIAogICAgCiAgICAKICAgICAgICAgICAgdmFyIGNpcmNsZV9tYXJrZXJfYWQ5YWRmNzllNzg3NGQ3MDk4MGVmMjg0Y2VhNDBhMWQgPSBMLmNpcmNsZU1hcmtlcigKICAgICAgICAgICAgICAgIFs0My42NDY0MzUyLCAtNzkuMzc0ODQ1OTk5OTk5OTldLAogICAgICAgICAgICAgICAgeyJidWJibGluZ01vdXNlRXZlbnRzIjogdHJ1ZSwgImNvbG9yIjogImJsdWUiLCAiZGFzaEFycmF5IjogbnVsbCwgImRhc2hPZmZzZXQiOiBudWxsLCAiZmlsbCI6IHRydWUsICJmaWxsQ29sb3IiOiAiIzMxODZjYyIsICJmaWxsT3BhY2l0eSI6IDAuNywgImZpbGxSdWxlIjogImV2ZW5vZGQiLCAibGluZUNhcCI6ICJyb3VuZCIsICJsaW5lSm9pbiI6ICJyb3VuZCIsICJvcGFjaXR5IjogMS4wLCAicmFkaXVzIjogNSwgInN0cm9rZSI6IHRydWUsICJ3ZWlnaHQiOiAzfQogICAgICAgICAgICApLmFkZFRvKG1hcF8zODI4ODU3MWU2MTg0MDBjYjllM2JkNTM3NjM0OGJhNyk7CiAgICAgICAgCiAgICAKICAgICAgICB2YXIgcG9wdXBfMGJmZWExOGJkNDlmNDAzYjg2NmZhMmQ0MWU0YWYwNmQgPSBMLnBvcHVwKHsibWF4V2lkdGgiOiAiMTAwJSJ9KTsKCiAgICAgICAgCiAgICAgICAgICAgIHZhciBodG1sXzUzMDA3NmYyMWQ5ZjQ5ZTE4ODFjY2FiNjk2ZmI3ODFkID0gJChgPGRpdiBpZD0iaHRtbF81MzAwNzZmMjFkOWY0OWUxODgxY2NhYjY5NmZiNzgxZCIgc3R5bGU9IndpZHRoOiAxMDAuMCU7IGhlaWdodDogMTAwLjAlOyI+U3RuIEEgUE8gQm94ZXMsIERvd250b3duIFRvcm9udG88L2Rpdj5gKVswXTsKICAgICAgICAgICAgcG9wdXBfMGJmZWExOGJkNDlmNDAzYjg2NmZhMmQ0MWU0YWYwNmQuc2V0Q29udGVudChodG1sXzUzMDA3NmYyMWQ5ZjQ5ZTE4ODFjY2FiNjk2ZmI3ODFkKTsKICAgICAgICAKCiAgICAgICAgY2lyY2xlX21hcmtlcl9hZDlhZGY3OWU3ODc0ZDcwOTgwZWYyODRjZWE0MGExZC5iaW5kUG9wdXAocG9wdXBfMGJmZWExOGJkNDlmNDAzYjg2NmZhMmQ0MWU0YWYwNmQpCiAgICAgICAgOwoKICAgICAgICAKICAgIAogICAgCiAgICAgICAgICAgIHZhciBjaXJjbGVfbWFya2VyX2U0NzVhYTIwMmY5ZTRkMzk5NDVmZDE2YWRmZTk4OGIwID0gTC5jaXJjbGVNYXJrZXIoCiAgICAgICAgICAgICAgICBbNDMuNjY3OTY3LCAtNzkuMzY3Njc1M10sCiAgICAgICAgICAgICAgICB7ImJ1YmJsaW5nTW91c2VFdmVudHMiOiB0cnVlLCAiY29sb3IiOiAiYmx1ZSIsICJkYXNoQXJyYXkiOiBudWxsLCAiZGFzaE9mZnNldCI6IG51bGwsICJmaWxsIjogdHJ1ZSwgImZpbGxDb2xvciI6ICIjMzE4NmNjIiwgImZpbGxPcGFjaXR5IjogMC43LCAiZmlsbFJ1bGUiOiAiZXZlbm9kZCIsICJsaW5lQ2FwIjogInJvdW5kIiwgImxpbmVKb2luIjogInJvdW5kIiwgIm9wYWNpdHkiOiAxLjAsICJyYWRpdXMiOiA1LCAic3Ryb2tlIjogdHJ1ZSwgIndlaWdodCI6IDN9CiAgICAgICAgICAgICkuYWRkVG8obWFwXzM4Mjg4NTcxZTYxODQwMGNiOWUzYmQ1Mzc2MzQ4YmE3KTsKICAgICAgICAKICAgIAogICAgICAgIHZhciBwb3B1cF85OWI3ZmNkOWMyY2U0Y2Y4YThhODY1YjUwOGU4ZjY4OSA9IEwucG9wdXAoeyJtYXhXaWR0aCI6ICIxMDAlIn0pOwoKICAgICAgICAKICAgICAgICAgICAgdmFyIGh0bWxfMDg0NTAzN2NhZjU5NDMwOWIzMjgzYzhmMDQ3NDhhZjUgPSAkKGA8ZGl2IGlkPSJodG1sXzA4NDUwMzdjYWY1OTQzMDliMzI4M2M4ZjA0NzQ4YWY1IiBzdHlsZT0id2lkdGg6IDEwMC4wJTsgaGVpZ2h0OiAxMDAuMCU7Ij5TdC4gSmFtZXMgVG93biwgQ2FiYmFnZXRvd24sIERvd250b3duIFRvcm9udG88L2Rpdj5gKVswXTsKICAgICAgICAgICAgcG9wdXBfOTliN2ZjZDljMmNlNGNmOGE4YTg2NWI1MDhlOGY2ODkuc2V0Q29udGVudChodG1sXzA4NDUwMzdjYWY1OTQzMDliMzI4M2M4ZjA0NzQ4YWY1KTsKICAgICAgICAKCiAgICAgICAgY2lyY2xlX21hcmtlcl9lNDc1YWEyMDJmOWU0ZDM5OTQ1ZmQxNmFkZmU5ODhiMC5iaW5kUG9wdXAocG9wdXBfOTliN2ZjZDljMmNlNGNmOGE4YTg2NWI1MDhlOGY2ODkpCiAgICAgICAgOwoKICAgICAgICAKICAgIAogICAgCiAgICAgICAgICAgIHZhciBjaXJjbGVfbWFya2VyXzE0NDAyNWE3OTQ1NjQxNWZhYWMxYWYxYjM2YzlhNjkxID0gTC5jaXJjbGVNYXJrZXIoCiAgICAgICAgICAgICAgICBbNDMuNjQ4NDI5MiwgLTc5LjM4MjI4MDJdLAogICAgICAgICAgICAgICAgeyJidWJibGluZ01vdXNlRXZlbnRzIjogdHJ1ZSwgImNvbG9yIjogImJsdWUiLCAiZGFzaEFycmF5IjogbnVsbCwgImRhc2hPZmZzZXQiOiBudWxsLCAiZmlsbCI6IHRydWUsICJmaWxsQ29sb3IiOiAiIzMxODZjYyIsICJmaWxsT3BhY2l0eSI6IDAuNywgImZpbGxSdWxlIjogImV2ZW5vZGQiLCAibGluZUNhcCI6ICJyb3VuZCIsICJsaW5lSm9pbiI6ICJyb3VuZCIsICJvcGFjaXR5IjogMS4wLCAicmFkaXVzIjogNSwgInN0cm9rZSI6IHRydWUsICJ3ZWlnaHQiOiAzfQogICAgICAgICAgICApLmFkZFRvKG1hcF8zODI4ODU3MWU2MTg0MDBjYjllM2JkNTM3NjM0OGJhNyk7CiAgICAgICAgCiAgICAKICAgICAgICB2YXIgcG9wdXBfM2ZjY2NiYjZkNTMzNDg1NjkzZGUwNzdjZGYzMDhkYTMgPSBMLnBvcHVwKHsibWF4V2lkdGgiOiAiMTAwJSJ9KTsKCiAgICAgICAgCiAgICAgICAgICAgIHZhciBodG1sX2UyNDQyYmMzYzg5NjQzOWU5NjAwYjI5NTdlMjEwZDQ1ID0gJChgPGRpdiBpZD0iaHRtbF9lMjQ0MmJjM2M4OTY0MzllOTYwMGIyOTU3ZTIxMGQ0NSIgc3R5bGU9IndpZHRoOiAxMDAuMCU7IGhlaWdodDogMTAwLjAlOyI+Rmlyc3QgQ2FuYWRpYW4gUGxhY2UsIFVuZGVyZ3JvdW5kIGNpdHksIERvd250b3duIFRvcm9udG88L2Rpdj5gKVswXTsKICAgICAgICAgICAgcG9wdXBfM2ZjY2NiYjZkNTMzNDg1NjkzZGUwNzdjZGYzMDhkYTMuc2V0Q29udGVudChodG1sX2UyNDQyYmMzYzg5NjQzOWU5NjAwYjI5NTdlMjEwZDQ1KTsKICAgICAgICAKCiAgICAgICAgY2lyY2xlX21hcmtlcl8xNDQwMjVhNzk0NTY0MTVmYWFjMWFmMWIzNmM5YTY5MS5iaW5kUG9wdXAocG9wdXBfM2ZjY2NiYjZkNTMzNDg1NjkzZGUwNzdjZGYzMDhkYTMpCiAgICAgICAgOwoKICAgICAgICAKICAgIAogICAgCiAgICAgICAgICAgIHZhciBjaXJjbGVfbWFya2VyXzBlZWRlMTg1YjJmZTQyODdiN2QzOWQ4ODBmZjY5OTQ4ID0gTC5jaXJjbGVNYXJrZXIoCiAgICAgICAgICAgICAgICBbNDMuNjY1ODU5OSwgLTc5LjM4MzE1OTkwMDAwMDAxXSwKICAgICAgICAgICAgICAgIHsiYnViYmxpbmdNb3VzZUV2ZW50cyI6IHRydWUsICJjb2xvciI6ICJibHVlIiwgImRhc2hBcnJheSI6IG51bGwsICJkYXNoT2Zmc2V0IjogbnVsbCwgImZpbGwiOiB0cnVlLCAiZmlsbENvbG9yIjogIiMzMTg2Y2MiLCAiZmlsbE9wYWNpdHkiOiAwLjcsICJmaWxsUnVsZSI6ICJldmVub2RkIiwgImxpbmVDYXAiOiAicm91bmQiLCAibGluZUpvaW4iOiAicm91bmQiLCAib3BhY2l0eSI6IDEuMCwgInJhZGl1cyI6IDUsICJzdHJva2UiOiB0cnVlLCAid2VpZ2h0IjogM30KICAgICAgICAgICAgKS5hZGRUbyhtYXBfMzgyODg1NzFlNjE4NDAwY2I5ZTNiZDUzNzYzNDhiYTcpOwogICAgICAgIAogICAgCiAgICAgICAgdmFyIHBvcHVwX2U5YmZjZGZhNTAwMDQ0M2JhODNjMjEwM2JjMWFiYmQxID0gTC5wb3B1cCh7Im1heFdpZHRoIjogIjEwMCUifSk7CgogICAgICAgIAogICAgICAgICAgICB2YXIgaHRtbF9jY2Y4NTY3MTRmNjQ0OTc5OTg5YTJjZTJhMzg3NDViMSA9ICQoYDxkaXYgaWQ9Imh0bWxfY2NmODU2NzE0ZjY0NDk3OTk4OWEyY2UyYTM4NzQ1YjEiIHN0eWxlPSJ3aWR0aDogMTAwLjAlOyBoZWlnaHQ6IDEwMC4wJTsiPkNodXJjaCBhbmQgV2VsbGVzbGV5LCBEb3dudG93biBUb3JvbnRvPC9kaXY+YClbMF07CiAgICAgICAgICAgIHBvcHVwX2U5YmZjZGZhNTAwMDQ0M2JhODNjMjEwM2JjMWFiYmQxLnNldENvbnRlbnQoaHRtbF9jY2Y4NTY3MTRmNjQ0OTc5OTg5YTJjZTJhMzg3NDViMSk7CiAgICAgICAgCgogICAgICAgIGNpcmNsZV9tYXJrZXJfMGVlZGUxODViMmZlNDI4N2I3ZDM5ZDg4MGZmNjk5NDguYmluZFBvcHVwKHBvcHVwX2U5YmZjZGZhNTAwMDQ0M2JhODNjMjEwM2JjMWFiYmQxKQogICAgICAgIDsKCiAgICAgICAgCiAgICAKICAgIAogICAgICAgICAgICB2YXIgY2lyY2xlX21hcmtlcl9iYmNiYWQzMGUzYjk0NzBkOTM1NWZhNTkwN2MzMTIwNiA9IEwuY2lyY2xlTWFya2VyKAogICAgICAgICAgICAgICAgWzQzLjY2Mjc0MzksIC03OS4zMjE1NThdLAogICAgICAgICAgICAgICAgeyJidWJibGluZ01vdXNlRXZlbnRzIjogdHJ1ZSwgImNvbG9yIjogImJsdWUiLCAiZGFzaEFycmF5IjogbnVsbCwgImRhc2hPZmZzZXQiOiBudWxsLCAiZmlsbCI6IHRydWUsICJmaWxsQ29sb3IiOiAiIzMxODZjYyIsICJmaWxsT3BhY2l0eSI6IDAuNywgImZpbGxSdWxlIjogImV2ZW5vZGQiLCAibGluZUNhcCI6ICJyb3VuZCIsICJsaW5lSm9pbiI6ICJyb3VuZCIsICJvcGFjaXR5IjogMS4wLCAicmFkaXVzIjogNSwgInN0cm9rZSI6IHRydWUsICJ3ZWlnaHQiOiAzfQogICAgICAgICAgICApLmFkZFRvKG1hcF8zODI4ODU3MWU2MTg0MDBjYjllM2JkNTM3NjM0OGJhNyk7CiAgICAgICAgCiAgICAKICAgICAgICB2YXIgcG9wdXBfOWVmNTg3YzE4M2Q1NDkyY2FkZmEwNWVmMTNmMmVlOTkgPSBMLnBvcHVwKHsibWF4V2lkdGgiOiAiMTAwJSJ9KTsKCiAgICAgICAgCiAgICAgICAgICAgIHZhciBodG1sX2RmNWFjMWJlNGJhMDQ2OGRiYjAyODE1NTg4N2NiMjMzID0gJChgPGRpdiBpZD0iaHRtbF9kZjVhYzFiZTRiYTA0NjhkYmIwMjgxNTU4ODdjYjIzMyIgc3R5bGU9IndpZHRoOiAxMDAuMCU7IGhlaWdodDogMTAwLjAlOyI+QnVzaW5lc3MgcmVwbHkgbWFpbCBQcm9jZXNzaW5nIENlbnRyZSwgU291dGggQ2VudHJhbCBMZXR0ZXIgUHJvY2Vzc2luZyBQbGFudCBUb3JvbnRvLCBFYXN0IFRvcm9udG88L2Rpdj5gKVswXTsKICAgICAgICAgICAgcG9wdXBfOWVmNTg3YzE4M2Q1NDkyY2FkZmEwNWVmMTNmMmVlOTkuc2V0Q29udGVudChodG1sX2RmNWFjMWJlNGJhMDQ2OGRiYjAyODE1NTg4N2NiMjMzKTsKICAgICAgICAKCiAgICAgICAgY2lyY2xlX21hcmtlcl9iYmNiYWQzMGUzYjk0NzBkOTM1NWZhNTkwN2MzMTIwNi5iaW5kUG9wdXAocG9wdXBfOWVmNTg3YzE4M2Q1NDkyY2FkZmEwNWVmMTNmMmVlOTkpCiAgICAgICAgOwoKICAgICAgICAKICAgIAo8L3NjcmlwdD4= onload=\"this.contentDocument.open();this.contentDocument.write(atob(this.getAttribute('data-html')));this.contentDocument.close();\" allowfullscreen webkitallowfullscreen mozallowfullscreen></iframe></div></div>"
      ],
      "text/plain": [
       "<folium.folium.Map at 0x2bc9c0dca90>"
      ]
     },
     "execution_count": 70,
     "metadata": {},
     "output_type": "execute_result"
    }
   ],
   "source": [
    "# create map of Toronto using latitude and longitude values\n",
    "map = folium.Map(location=[43.651070, -79.347015], zoom_start=10)\n",
    "\n",
    "# add markers to map\n",
    "for lat, lng, borough, neighbourhood in zip(df['Latitude'], df['Longitude'], df['Borough'], df['Neighbourhood']):\n",
    "    label = '{}, {}'.format(neighbourhood, borough)\n",
    "    label = folium.Popup(label, parse_html=True)\n",
    "    folium.CircleMarker(\n",
    "        [lat,lng],\n",
    "        radius=5,\n",
    "        popup=label,\n",
    "        color='blue',\n",
    "        fill=True,\n",
    "        fill_color='#3186cc',\n",
    "        fill_opacity=0.7,\n",
    "        parse_html=False).add_to(map)\n",
    "\n",
    "map"
   ]
  },
  {
   "cell_type": "markdown",
   "metadata": {},
   "source": [
    "clustering using K Means"
   ]
  },
  {
   "cell_type": "code",
   "execution_count": 64,
   "metadata": {
    "scrolled": true
   },
   "outputs": [
    {
     "data": {
      "text/html": [
       "<div>\n",
       "<style scoped>\n",
       "    .dataframe tbody tr th:only-of-type {\n",
       "        vertical-align: middle;\n",
       "    }\n",
       "\n",
       "    .dataframe tbody tr th {\n",
       "        vertical-align: top;\n",
       "    }\n",
       "\n",
       "    .dataframe thead th {\n",
       "        text-align: right;\n",
       "    }\n",
       "</style>\n",
       "<table border=\"1\" class=\"dataframe\">\n",
       "  <thead>\n",
       "    <tr style=\"text-align: right;\">\n",
       "      <th></th>\n",
       "      <th>Cluster Labels</th>\n",
       "      <th>Postal Code</th>\n",
       "      <th>Borough</th>\n",
       "      <th>Neighbourhood</th>\n",
       "      <th>Latitude</th>\n",
       "      <th>Longitude</th>\n",
       "    </tr>\n",
       "  </thead>\n",
       "  <tbody>\n",
       "    <tr>\n",
       "      <th>0</th>\n",
       "      <td>0</td>\n",
       "      <td>M5A</td>\n",
       "      <td>Downtown Toronto</td>\n",
       "      <td>Regent Park, Harbourfront</td>\n",
       "      <td>43.654260</td>\n",
       "      <td>-79.360636</td>\n",
       "    </tr>\n",
       "    <tr>\n",
       "      <th>1</th>\n",
       "      <td>0</td>\n",
       "      <td>M7A</td>\n",
       "      <td>Downtown Toronto</td>\n",
       "      <td>Queen's Park, Ontario Provincial Government</td>\n",
       "      <td>43.662301</td>\n",
       "      <td>-79.389494</td>\n",
       "    </tr>\n",
       "    <tr>\n",
       "      <th>2</th>\n",
       "      <td>0</td>\n",
       "      <td>M5B</td>\n",
       "      <td>Downtown Toronto</td>\n",
       "      <td>Garden District, Ryerson</td>\n",
       "      <td>43.657162</td>\n",
       "      <td>-79.378937</td>\n",
       "    </tr>\n",
       "    <tr>\n",
       "      <th>3</th>\n",
       "      <td>0</td>\n",
       "      <td>M5C</td>\n",
       "      <td>Downtown Toronto</td>\n",
       "      <td>St. James Town</td>\n",
       "      <td>43.651494</td>\n",
       "      <td>-79.375418</td>\n",
       "    </tr>\n",
       "    <tr>\n",
       "      <th>4</th>\n",
       "      <td>4</td>\n",
       "      <td>M4E</td>\n",
       "      <td>East Toronto</td>\n",
       "      <td>The Beaches</td>\n",
       "      <td>43.676357</td>\n",
       "      <td>-79.293031</td>\n",
       "    </tr>\n",
       "  </tbody>\n",
       "</table>\n",
       "</div>"
      ],
      "text/plain": [
       "   Cluster Labels Postal Code           Borough  \\\n",
       "0               0         M5A  Downtown Toronto   \n",
       "1               0         M7A  Downtown Toronto   \n",
       "2               0         M5B  Downtown Toronto   \n",
       "3               0         M5C  Downtown Toronto   \n",
       "4               4         M4E      East Toronto   \n",
       "\n",
       "                                 Neighbourhood   Latitude  Longitude  \n",
       "0                    Regent Park, Harbourfront  43.654260 -79.360636  \n",
       "1  Queen's Park, Ontario Provincial Government  43.662301 -79.389494  \n",
       "2                     Garden District, Ryerson  43.657162 -79.378937  \n",
       "3                               St. James Town  43.651494 -79.375418  \n",
       "4                                  The Beaches  43.676357 -79.293031  "
      ]
     },
     "execution_count": 64,
     "metadata": {},
     "output_type": "execute_result"
    }
   ],
   "source": [
    "# set number of clusters\n",
    "k = 5\n",
    "\n",
    "df_clustering = df.drop(['Postal Code', 'Borough', 'Neighbourhood'], 1)\n",
    "\n",
    "# run k-means clustering\n",
    "kmeans = KMeans(n_clusters = k, random_state = 0).fit(df_clustering)\n",
    "\n",
    "# check cluster labels generated for each row in the dataframe\n",
    "kmeans.labels_\n",
    "df.insert(0, 'Cluster Labels', kmeans.labels_)\n",
    "df.head()"
   ]
  },
  {
   "cell_type": "markdown",
   "metadata": {},
   "source": [
    "Recreate map with cluster"
   ]
  },
  {
   "cell_type": "code",
   "execution_count": 69,
   "metadata": {},
   "outputs": [
    {
     "data": {
      "text/html": [
       "<div style=\"width:100%;\"><div style=\"position:relative;width:100%;height:0;padding-bottom:60%;\"><span style=\"color:#565656\">Make this Notebook Trusted to load map: File -> Trust Notebook</span><iframe src=\"about:blank\" style=\"position:absolute;width:100%;height:100%;left:0;top:0;border:none !important;\" data-html=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 onload=\"this.contentDocument.open();this.contentDocument.write(atob(this.getAttribute('data-html')));this.contentDocument.close();\" allowfullscreen webkitallowfullscreen mozallowfullscreen></iframe></div></div>"
      ],
      "text/plain": [
       "<folium.folium.Map at 0x2bc9c0e1f60>"
      ]
     },
     "execution_count": 69,
     "metadata": {},
     "output_type": "execute_result"
    }
   ],
   "source": [
    "map_clusters = folium.Map(location = [43.651070, -79.347015], zoom_start=10)\n",
    "\n",
    "# set color scheme for the clusters\n",
    "x = np.arange(k)\n",
    "ys = [i + x + (i*x)**2 for i in range(k)]\n",
    "colors_array = cm.rainbow(np.linspace(0, 1, len(ys)))\n",
    "rainbow = [colors.rgb2hex(i) for i in colors_array]\n",
    "\n",
    "# add markers to the map\n",
    "markers_colors = []\n",
    "for lat, lon, poi, cluster in zip(df['Latitude'], df['Longitude'], df['Neighbourhood'], df['Cluster Labels']):\n",
    "    label = folium.Popup(str(poi) + ' Cluster ' + str(cluster), parse_html=True)\n",
    "    folium.CircleMarker(\n",
    "        [lat, lon],\n",
    "        radius=5,\n",
    "        popup=label,\n",
    "        color=rainbow[cluster-1],\n",
    "        fill=True,\n",
    "        fill_color=rainbow[cluster-1],\n",
    "        fill_opacity=0.7).add_to(map_clusters)\n",
    "       \n",
    "map_clusters"
   ]
  },
  {
   "cell_type": "markdown",
   "metadata": {},
   "source": [
    "# To see the map images, please view the png files in the repo"
   ]
  }
 ],
 "metadata": {
  "kernelspec": {
   "display_name": "Python 3",
   "language": "python",
   "name": "python3"
  },
  "language_info": {
   "codemirror_mode": {
    "name": "ipython",
    "version": 3
   },
   "file_extension": ".py",
   "mimetype": "text/x-python",
   "name": "python",
   "nbconvert_exporter": "python",
   "pygments_lexer": "ipython3",
   "version": "3.7.1"
  }
 },
 "nbformat": 4,
 "nbformat_minor": 2
}
